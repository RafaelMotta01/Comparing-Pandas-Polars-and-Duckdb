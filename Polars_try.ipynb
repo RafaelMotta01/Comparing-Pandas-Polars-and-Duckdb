{
 "cells": [
  {
   "cell_type": "code",
   "execution_count": 1,
   "id": "0fac1568",
   "metadata": {},
   "outputs": [],
   "source": [
    "import polars as pl\n",
    "import os\n",
    "import time"
   ]
  },
  {
   "cell_type": "code",
   "execution_count": 2,
   "id": "28b2ca8e",
   "metadata": {},
   "outputs": [],
   "source": [
    "# record start time\n",
    "start = time.time()\n",
    "\n",
    "# Read csv\n",
    "df_polars_app = pl.read_csv('Google-Playstore.csv', ignore_errors = True)\n",
    "\n",
    "# record end time\n",
    "end = time.time()"
   ]
  },
  {
   "cell_type": "code",
   "execution_count": 3,
   "id": "a3562d4c",
   "metadata": {},
   "outputs": [
    {
     "name": "stdout",
     "output_type": "stream",
     "text": [
      "The time of execution of polars read_csv is: 547.5077629089355 ms\n"
     ]
    }
   ],
   "source": [
    "print(\"The time of execution of polars read_csv is:\",(end-start) * 10**3, \"ms\")"
   ]
  },
  {
   "cell_type": "code",
   "execution_count": 13,
   "id": "15112470",
   "metadata": {},
   "outputs": [
    {
     "data": {
      "text/html": [
       "<div><style>\n",
       ".dataframe > thead > tr,\n",
       ".dataframe > tbody > tr {\n",
       "  text-align: right;\n",
       "  white-space: pre-wrap;\n",
       "}\n",
       "</style>\n",
       "<small>shape: (2_312_944, 24)</small><table border=\"1\" class=\"dataframe\"><thead><tr><th>App Name</th><th>App Id</th><th>Category</th><th>Rating</th><th>Rating Count</th><th>Installs</th><th>Minimum Installs</th><th>Maximum Installs</th><th>Free</th><th>Price</th><th>Currency</th><th>Size</th><th>Minimum Android</th><th>Developer Id</th><th>Developer Website</th><th>Developer Email</th><th>Released</th><th>Last Updated</th><th>Content Rating</th><th>Privacy Policy</th><th>Ad Supported</th><th>In App Purchases</th><th>Editors Choice</th><th>Scraped Time</th></tr><tr><td>str</td><td>str</td><td>str</td><td>f64</td><td>i64</td><td>str</td><td>i64</td><td>i64</td><td>bool</td><td>i64</td><td>str</td><td>str</td><td>str</td><td>str</td><td>str</td><td>str</td><td>str</td><td>str</td><td>str</td><td>str</td><td>bool</td><td>bool</td><td>bool</td><td>str</td></tr></thead><tbody><tr><td>&quot;Gakondo&quot;</td><td>&quot;com.ishakwe.gakondo&quot;</td><td>&quot;Adventure&quot;</td><td>0.0</td><td>0</td><td>&quot;10+&quot;</td><td>10</td><td>15</td><td>true</td><td>0</td><td>&quot;USD&quot;</td><td>&quot;10M&quot;</td><td>&quot;7.1 and up&quot;</td><td>&quot;Jean Confident Irénée NIYIZIBY…</td><td>&quot;https://beniyizibyose.tk/#/&quot;</td><td>&quot;jean21101999@gmail.com&quot;</td><td>&quot;Feb 26, 2020&quot;</td><td>&quot;Feb 26, 2020&quot;</td><td>&quot;Everyone&quot;</td><td>&quot;https://beniyizibyose.tk/proje…</td><td>false</td><td>false</td><td>false</td><td>&quot;2021-06-15 20:19:35&quot;</td></tr><tr><td>&quot;Ampere Battery Info&quot;</td><td>&quot;com.webserveis.batteryinfo&quot;</td><td>&quot;Tools&quot;</td><td>4.4</td><td>64</td><td>&quot;5,000+&quot;</td><td>5000</td><td>7662</td><td>true</td><td>0</td><td>&quot;USD&quot;</td><td>&quot;2.9M&quot;</td><td>&quot;5.0 and up&quot;</td><td>&quot;Webserveis&quot;</td><td>&quot;https://webserveis.netlify.app…</td><td>&quot;webserveis@gmail.com&quot;</td><td>&quot;May 21, 2020&quot;</td><td>&quot;May 06, 2021&quot;</td><td>&quot;Everyone&quot;</td><td>&quot;https://dev4phones.wordpress.c…</td><td>true</td><td>false</td><td>false</td><td>&quot;2021-06-15 20:19:35&quot;</td></tr><tr><td>&quot;Vibook&quot;</td><td>&quot;com.doantiepvien.crm&quot;</td><td>&quot;Productivity&quot;</td><td>0.0</td><td>0</td><td>&quot;50+&quot;</td><td>50</td><td>58</td><td>true</td><td>0</td><td>&quot;USD&quot;</td><td>&quot;3.7M&quot;</td><td>&quot;4.0.3 and up&quot;</td><td>&quot;Cabin Crew&quot;</td><td>null</td><td>&quot;vnacrewit@gmail.com&quot;</td><td>&quot;Aug 9, 2019&quot;</td><td>&quot;Aug 19, 2019&quot;</td><td>&quot;Everyone&quot;</td><td>&quot;https://www.vietnamairlines.co…</td><td>false</td><td>false</td><td>false</td><td>&quot;2021-06-15 20:19:35&quot;</td></tr><tr><td>&quot;Smart City Trichy Public Servi…</td><td>&quot;cst.stJoseph.ug17ucs548&quot;</td><td>&quot;Communication&quot;</td><td>5.0</td><td>5</td><td>&quot;10+&quot;</td><td>10</td><td>19</td><td>true</td><td>0</td><td>&quot;USD&quot;</td><td>&quot;1.8M&quot;</td><td>&quot;4.0.3 and up&quot;</td><td>&quot;Climate Smart Tech2&quot;</td><td>&quot;http://www.climatesmarttech.co…</td><td>&quot;climatesmarttech2@gmail.com&quot;</td><td>&quot;Sep 10, 2018&quot;</td><td>&quot;Oct 13, 2018&quot;</td><td>&quot;Everyone&quot;</td><td>null</td><td>true</td><td>false</td><td>false</td><td>&quot;2021-06-15 20:19:35&quot;</td></tr><tr><td>&quot;GROW.me&quot;</td><td>&quot;com.horodyski.grower&quot;</td><td>&quot;Tools&quot;</td><td>0.0</td><td>0</td><td>&quot;100+&quot;</td><td>100</td><td>478</td><td>true</td><td>0</td><td>&quot;USD&quot;</td><td>&quot;6.2M&quot;</td><td>&quot;4.1 and up&quot;</td><td>&quot;Rafal Milek-Horodyski&quot;</td><td>&quot;http://www.horodyski.com.pl&quot;</td><td>&quot;rmilekhorodyski@gmail.com&quot;</td><td>&quot;Feb 21, 2020&quot;</td><td>&quot;Nov 12, 2018&quot;</td><td>&quot;Everyone&quot;</td><td>&quot;http://www.horodyski.com.pl&quot;</td><td>false</td><td>false</td><td>false</td><td>&quot;2021-06-15 20:19:35&quot;</td></tr><tr><td>&quot;IMOCCI&quot;</td><td>&quot;com.imocci&quot;</td><td>&quot;Social&quot;</td><td>0.0</td><td>0</td><td>&quot;50+&quot;</td><td>50</td><td>89</td><td>true</td><td>0</td><td>&quot;USD&quot;</td><td>&quot;46M&quot;</td><td>&quot;6.0 and up&quot;</td><td>&quot;Imocci GmbH&quot;</td><td>&quot;http://www.imocci.com&quot;</td><td>&quot;info@imocci.com&quot;</td><td>&quot;Dec 24, 2018&quot;</td><td>&quot;Dec 20, 2019&quot;</td><td>&quot;Teen&quot;</td><td>&quot;https://www.imocci.com/wp-cont…</td><td>false</td><td>true</td><td>false</td><td>&quot;2021-06-15 20:19:35&quot;</td></tr><tr><td>&quot;unlimited 4G data prank free a…</td><td>&quot;getfreedata.superfatiza.unlimi…</td><td>&quot;Libraries &amp; Demo&quot;</td><td>4.5</td><td>12</td><td>&quot;1,000+&quot;</td><td>1000</td><td>2567</td><td>true</td><td>0</td><td>&quot;USD&quot;</td><td>&quot;2.5M&quot;</td><td>&quot;4.1 and up&quot;</td><td>&quot;android developer779&quot;</td><td>null</td><td>&quot;aitomgharfatimezzahra@gmail.co…</td><td>&quot;Sep 23, 2019&quot;</td><td>&quot;Sep 27, 2019&quot;</td><td>&quot;Everyone&quot;</td><td>&quot;https://sites.google.com/view/…</td><td>true</td><td>false</td><td>false</td><td>&quot;2021-06-15 20:19:35&quot;</td></tr><tr><td>&quot;The Everyday Calendar&quot;</td><td>&quot;com.mozaix.simoneboard&quot;</td><td>&quot;Lifestyle&quot;</td><td>2.0</td><td>39</td><td>&quot;500+&quot;</td><td>500</td><td>702</td><td>true</td><td>0</td><td>&quot;USD&quot;</td><td>&quot;16M&quot;</td><td>&quot;5.0 and up&quot;</td><td>&quot;Mozaix LLC&quot;</td><td>null</td><td>&quot;elementuser03@gmail.com&quot;</td><td>&quot;Jun 21, 2019&quot;</td><td>&quot;Jun 21, 2019&quot;</td><td>&quot;Everyone&quot;</td><td>&quot;https://www.freeprivacypolicy.…</td><td>false</td><td>false</td><td>false</td><td>&quot;2021-06-15 20:19:35&quot;</td></tr><tr><td>&quot;WhatsOpen&quot;</td><td>&quot;com.whatsopen.app&quot;</td><td>&quot;Communication&quot;</td><td>0.0</td><td>0</td><td>&quot;10+&quot;</td><td>10</td><td>18</td><td>true</td><td>0</td><td>&quot;USD&quot;</td><td>&quot;1.3M&quot;</td><td>&quot;4.4 and up&quot;</td><td>&quot;Yilver Molina Hurtatiz&quot;</td><td>&quot;http://yilvermolinah.com&quot;</td><td>&quot;yilver.mh1996@gmail.com&quot;</td><td>null</td><td>&quot;Dec 07, 2018&quot;</td><td>&quot;Teen&quot;</td><td>&quot;http://elcafedelamanana.yilver…</td><td>false</td><td>false</td><td>false</td><td>&quot;2021-06-15 20:19:35&quot;</td></tr><tr><td>&quot;Neon 3d Iron Tech Keyboard The…</td><td>&quot;com.ikeyboard.theme.neon_3d.ir…</td><td>&quot;Personalization&quot;</td><td>4.7</td><td>820</td><td>&quot;50,000+&quot;</td><td>50000</td><td>62433</td><td>true</td><td>0</td><td>&quot;USD&quot;</td><td>&quot;3.5M&quot;</td><td>&quot;4.1 and up&quot;</td><td>&quot;Free 2021 Themes for Emoji key…</td><td>&quot;https://trendyteme888-31139.we…</td><td>&quot;trendyteme.888@gmail.com&quot;</td><td>&quot;Sep 22, 2019&quot;</td><td>&quot;Oct 07, 2020&quot;</td><td>&quot;Everyone&quot;</td><td>&quot;http://bit.ly/EmojiThemePro&quot;</td><td>true</td><td>false</td><td>false</td><td>&quot;2021-06-15 20:19:35&quot;</td></tr><tr><td>&quot;Dodge The Cars!&quot;</td><td>&quot;com.MrScratchEnterprises.CarDo…</td><td>&quot;Racing&quot;</td><td>4.9</td><td>55</td><td>&quot;100+&quot;</td><td>100</td><td>329</td><td>true</td><td>0</td><td>&quot;USD&quot;</td><td>&quot;51M&quot;</td><td>&quot;4.4 and up&quot;</td><td>&quot;MrScratch&quot;</td><td>null</td><td>&quot;mithalaarush@gmail.com&quot;</td><td>&quot;Jul 30, 2020&quot;</td><td>&quot;Jul 30, 2020&quot;</td><td>&quot;Everyone&quot;</td><td>&quot;https://docs.google.com/docume…</td><td>false</td><td>false</td><td>false</td><td>&quot;2021-06-15 20:19:35&quot;</td></tr><tr><td>&quot;Parents&quot;</td><td>&quot;com.eqra.android.BSTS.parent&quot;</td><td>&quot;Maps &amp; Navigation&quot;</td><td>0.0</td><td>0</td><td>&quot;100+&quot;</td><td>100</td><td>330</td><td>true</td><td>0</td><td>&quot;USD&quot;</td><td>&quot;2.7M&quot;</td><td>&quot;4.0 and up&quot;</td><td>&quot;Eqra Tech&quot;</td><td>&quot;http://www.hafizquran.com&quot;</td><td>&quot;hhiyassat@eqratech.com&quot;</td><td>&quot;Jan 10, 2018&quot;</td><td>&quot;Jun 27, 2018&quot;</td><td>&quot;Everyone&quot;</td><td>&quot;https://docs.google.com/docume…</td><td>false</td><td>false</td><td>false</td><td>&quot;2021-06-15 20:19:36&quot;</td></tr><tr><td>&quot;桃園機場捷運時刻表 - 捷運轉乘路線快速查詢(支援台北捷運)&quot;</td><td>&quot;com.jieapp.taoyuanmetro&quot;</td><td>&quot;Travel &amp; Local&quot;</td><td>3.9</td><td>118</td><td>&quot;10,000+&quot;</td><td>10000</td><td>37763</td><td>true</td><td>0</td><td>&quot;USD&quot;</td><td>&quot;7.6M&quot;</td><td>&quot;4.2 and up&quot;</td><td>&quot;Jie App&quot;</td><td>&quot;https://jie-app.herokuapp.com/&quot;</td><td>&quot;jie.myapp@gmail.com&quot;</td><td>&quot;Apr 3, 2018&quot;</td><td>&quot;Jun 11, 2021&quot;</td><td>&quot;Everyone&quot;</td><td>&quot;http://appsetting.blogspot.tw/…</td><td>true</td><td>false</td><td>false</td><td>&quot;2021-06-15 20:19:36&quot;</td></tr><tr><td>&quot;be.MOBILISED&quot;</td><td>&quot;com.hastobe.bemobilised&quot;</td><td>&quot;Maps &amp; Navigation&quot;</td><td>0.0</td><td>0</td><td>&quot;100+&quot;</td><td>100</td><td>274</td><td>true</td><td>0</td><td>&quot;USD&quot;</td><td>&quot;15M&quot;</td><td>&quot;6.0 and up&quot;</td><td>&quot;has.to.be gmbh&quot;</td><td>&quot;http://www.has-to-be.com&quot;</td><td>&quot;support@has-to-be.com&quot;</td><td>&quot;Feb 9, 2020&quot;</td><td>&quot;May 14, 2021&quot;</td><td>&quot;Everyone&quot;</td><td>&quot;https://has-to-be.com/de/ueber…</td><td>false</td><td>false</td><td>false</td><td>&quot;2021-06-15 20:19:36&quot;</td></tr><tr><td>&quot;Caliway Conductor&quot;</td><td>&quot;com.caliwayconductor.driver&quot;</td><td>&quot;Travel &amp; Local&quot;</td><td>3.7</td><td>1572</td><td>&quot;10,000+&quot;</td><td>10000</td><td>42856</td><td>true</td><td>0</td><td>&quot;USD&quot;</td><td>&quot;29M&quot;</td><td>&quot;4.2 and up&quot;</td><td>&quot;WayCali&quot;</td><td>&quot;https://www.facebook.com/wayca…</td><td>&quot;waycalicol@gmail.com&quot;</td><td>&quot;Sep 5, 2018&quot;</td><td>&quot;May 30, 2020&quot;</td><td>&quot;Everyone&quot;</td><td>&quot;https://www.facebook.com/wayca…</td><td>false</td><td>false</td><td>false</td><td>&quot;2021-06-15 20:19:36&quot;</td></tr><tr><td>&quot;Readymade Grocery App&quot;</td><td>&quot;com.ionicfirebaseapp.readymade…</td><td>&quot;Food &amp; Drink&quot;</td><td>4.2</td><td>16</td><td>&quot;1,000+&quot;</td><td>1000</td><td>4313</td><td>true</td><td>0</td><td>&quot;USD&quot;</td><td>&quot;12M&quot;</td><td>&quot;4.4 and up&quot;</td><td>&quot;pietechsolution&quot;</td><td>&quot;https://www.ionicfirebaseapp.c…</td><td>&quot;info@ionicfirebaseapp.com&quot;</td><td>&quot;Apr 5, 2020&quot;</td><td>&quot;Mar 23, 2021&quot;</td><td>&quot;Everyone&quot;</td><td>&quot;https://www.ionicfirebaseapp.c…</td><td>false</td><td>false</td><td>false</td><td>&quot;2021-06-15 20:19:36&quot;</td></tr><tr><td>&quot;OTENTIK Discovery FR&quot;</td><td>&quot;com.camineo.otentikdiscoveryDL…</td><td>&quot;Travel &amp; Local&quot;</td><td>3.4</td><td>5</td><td>&quot;500+&quot;</td><td>500</td><td>949</td><td>true</td><td>0</td><td>&quot;USD&quot;</td><td>&quot;2.9M&quot;</td><td>&quot;4.4 and up&quot;</td><td>&quot;Hotels Attitude&quot;</td><td>&quot;http://www.hotels-attitude.com&quot;</td><td>&quot;info@hotels-attitude.com&quot;</td><td>&quot;Nov 28, 2016&quot;</td><td>&quot;Oct 30, 2019&quot;</td><td>&quot;Everyone&quot;</td><td>&quot;http://camineo.com/w7WEW99wBsd…</td><td>false</td><td>false</td><td>false</td><td>&quot;2021-06-15 20:19:36&quot;</td></tr><tr><td>&quot;All in one shopping app&quot;</td><td>&quot;com.tkapplications.allinonesho…</td><td>&quot;Tools&quot;</td><td>5.0</td><td>6</td><td>&quot;50+&quot;</td><td>50</td><td>62</td><td>true</td><td>0</td><td>&quot;USD&quot;</td><td>&quot;2.0M&quot;</td><td>&quot;4.1 and up&quot;</td><td>&quot;TK Applications&quot;</td><td>null</td><td>&quot;tkapplications001@gmail.com&quot;</td><td>&quot;Apr 24, 2019&quot;</td><td>&quot;May 05, 2019&quot;</td><td>&quot;Everyone&quot;</td><td>null</td><td>false</td><td>false</td><td>false</td><td>&quot;2021-06-15 20:19:36&quot;</td></tr><tr><td>&quot;REDMOND  Robot&quot;</td><td>&quot;com.grit.redmond&quot;</td><td>&quot;Lifestyle&quot;</td><td>3.7</td><td>328</td><td>&quot;10,000+&quot;</td><td>10000</td><td>31235</td><td>true</td><td>0</td><td>&quot;USD&quot;</td><td>&quot;70M&quot;</td><td>&quot;4.1 and up&quot;</td><td>&quot;Grit Technology&quot;</td><td>null</td><td>&quot;info@redmond.company&quot;</td><td>&quot;Jul 1, 2020&quot;</td><td>&quot;May 26, 2021&quot;</td><td>&quot;Everyone&quot;</td><td>&quot;https://redmond.company/upload…</td><td>false</td><td>false</td><td>false</td><td>&quot;2021-06-15 20:19:36&quot;</td></tr><tr><td>&quot;Contemporary Love Wallpaper HD&quot;</td><td>&quot;com.felingdev.lowalpaper&quot;</td><td>&quot;Books &amp; Reference&quot;</td><td>0.0</td><td>0</td><td>&quot;1+&quot;</td><td>1</td><td>2</td><td>true</td><td>0</td><td>&quot;XXX&quot;</td><td>&quot;11M&quot;</td><td>&quot;4.2 and up&quot;</td><td>&quot;Human Droid Apps&quot;</td><td>null</td><td>&quot;farukabdillah4@gmail.com&quot;</td><td>&quot;Dec 26, 2020&quot;</td><td>&quot;Mar 23, 2021&quot;</td><td>&quot;Mature 17+&quot;</td><td>&quot;https://docs.google.com/docume…</td><td>true</td><td>false</td><td>false</td><td>&quot;2021-06-15 20:19:36&quot;</td></tr><tr><td>&quot;Nepali Congress&quot;</td><td>&quot;np.com.NepaliCongress&quot;</td><td>&quot;Social&quot;</td><td>0.0</td><td>0</td><td>&quot;100+&quot;</td><td>100</td><td>336</td><td>true</td><td>0</td><td>&quot;USD&quot;</td><td>&quot;24M&quot;</td><td>&quot;5.0 and up&quot;</td><td>&quot;Nitya Shree Developers&quot;</td><td>&quot;https://nepalicongress.org&quot;</td><td>&quot;info@nepalicongress.org&quot;</td><td>&quot;May 31, 2021&quot;</td><td>&quot;May 31, 2021&quot;</td><td>&quot;Everyone&quot;</td><td>&quot;https://nepalicongress.org/pag…</td><td>false</td><td>false</td><td>false</td><td>&quot;2021-06-15 20:19:36&quot;</td></tr><tr><td>&quot;Bhavan&#x27;s BHEL VIM&quot;</td><td>&quot;com.bhavans.vim&quot;</td><td>&quot;Medical&quot;</td><td>0.0</td><td>0</td><td>&quot;10+&quot;</td><td>10</td><td>31</td><td>true</td><td>0</td><td>&quot;USD&quot;</td><td>&quot;1.4M&quot;</td><td>&quot;4.0.3 and up&quot;</td><td>&quot;Bhavans, BHEL, Hyderabad&quot;</td><td>&quot;http://www.bhavansbhelhyd.com/&quot;</td><td>&quot;cheboulu.uma@gmail.com&quot;</td><td>&quot;Dec 25, 2017&quot;</td><td>&quot;Dec 26, 2017&quot;</td><td>&quot;Everyone&quot;</td><td>null</td><td>false</td><td>false</td><td>false</td><td>&quot;2021-06-15 20:19:36&quot;</td></tr><tr><td>&quot;Block Fill: Puzzle Game&quot;</td><td>&quot;com.mailbeegames.casual.brain.…</td><td>&quot;Puzzle&quot;</td><td>4.4</td><td>211</td><td>&quot;10,000+&quot;</td><td>10000</td><td>15471</td><td>true</td><td>0</td><td>&quot;USD&quot;</td><td>&quot;16M&quot;</td><td>&quot;5.0 and up&quot;</td><td>&quot;MailBee Games&quot;</td><td>&quot;http://mailbeegames.net&quot;</td><td>&quot;mailbeegames@gmail.com&quot;</td><td>&quot;Mar 13, 2020&quot;</td><td>&quot;May 11, 2020&quot;</td><td>&quot;Everyone&quot;</td><td>&quot;http://www.addictinggames.com/…</td><td>true</td><td>true</td><td>false</td><td>&quot;2021-06-15 20:19:36&quot;</td></tr><tr><td>&quot;Coloring Book Barbaie&quot;</td><td>&quot;com.bisgumah.barbie&quot;</td><td>&quot;Entertainment&quot;</td><td>3.8</td><td>736</td><td>&quot;500,000+&quot;</td><td>500000</td><td>646456</td><td>true</td><td>0</td><td>&quot;USD&quot;</td><td>&quot;20M&quot;</td><td>&quot;5.0 and up&quot;</td><td>&quot;bisgumah&quot;</td><td>&quot;https://appsabsadstxt.blogspot…</td><td>&quot;bisgumah418@gmail.com&quot;</td><td>&quot;Apr 21, 2019&quot;</td><td>&quot;Nov 13, 2020&quot;</td><td>&quot;Everyone&quot;</td><td>&quot;https://docs.google.com/docume…</td><td>true</td><td>false</td><td>false</td><td>&quot;2021-06-15 20:19:36&quot;</td></tr><tr><td>&quot;Random Number Generator&quot;</td><td>&quot;com.gary.randomnumber&quot;</td><td>&quot;Tools&quot;</td><td>4.2</td><td>35</td><td>&quot;10,000+&quot;</td><td>10000</td><td>21124</td><td>true</td><td>0</td><td>&quot;USD&quot;</td><td>&quot;2.4M&quot;</td><td>&quot;5.0 and up&quot;</td><td>&quot;GaryG Apps&quot;</td><td>null</td><td>&quot;garygapps@gmail.com&quot;</td><td>&quot;May 28, 2017&quot;</td><td>&quot;May 30, 2020&quot;</td><td>&quot;Everyone&quot;</td><td>null</td><td>true</td><td>false</td><td>false</td><td>&quot;2021-06-15 20:19:37&quot;</td></tr><tr><td>&quot;Sticky Ball&quot;</td><td>&quot;com.mitochondriastudios.sticky…</td><td>&quot;Arcade&quot;</td><td>4.6</td><td>11</td><td>&quot;100+&quot;</td><td>100</td><td>152</td><td>true</td><td>0</td><td>&quot;USD&quot;</td><td>&quot;25M&quot;</td><td>&quot;4.1 and up&quot;</td><td>&quot;Mitochondria Studios&quot;</td><td>null</td><td>&quot;family@mitochondriastudios.com&quot;</td><td>&quot;Mar 5, 2018&quot;</td><td>&quot;Mar 26, 2018&quot;</td><td>&quot;Everyone&quot;</td><td>&quot;https://mitochondriastudios.co…</td><td>true</td><td>true</td><td>false</td><td>&quot;2021-06-15 20:19:37&quot;</td></tr><tr><td>&quot;CUBIC RUNNER&quot;</td><td>&quot;jp.ga_software.cubicrunner&quot;</td><td>&quot;Arcade&quot;</td><td>0.0</td><td>0</td><td>&quot;1,000+&quot;</td><td>1000</td><td>1068</td><td>true</td><td>0</td><td>&quot;USD&quot;</td><td>&quot;16M&quot;</td><td>&quot;4.0 and up&quot;</td><td>&quot;GA software&quot;</td><td>&quot;http://ga-software.blogspot.jp…</td><td>&quot;gasoftwarejp@gmail.com&quot;</td><td>&quot;Apr 1, 2015&quot;</td><td>&quot;Apr 16, 2015&quot;</td><td>&quot;Everyone&quot;</td><td>null</td><td>true</td><td>true</td><td>false</td><td>&quot;2021-06-15 20:19:37&quot;</td></tr><tr><td>&quot;Dj Car Sound And Sound Effects…</td><td>&quot;com.melonappsvpn.dj_carsounds&quot;</td><td>&quot;Entertainment&quot;</td><td>0.0</td><td>0</td><td>&quot;100+&quot;</td><td>100</td><td>396</td><td>true</td><td>0</td><td>&quot;USD&quot;</td><td>&quot;21M&quot;</td><td>&quot;4.0.3 and up&quot;</td><td>&quot;TenSept Tools&quot;</td><td>null</td><td>&quot;naveedgul802@gmail.com&quot;</td><td>&quot;May 17, 2019&quot;</td><td>&quot;May 17, 2019&quot;</td><td>&quot;Everyone&quot;</td><td>&quot;https://www.hamootech.com/priv…</td><td>true</td><td>false</td><td>false</td><td>&quot;2021-06-15 20:19:37&quot;</td></tr><tr><td>&quot;Schoolbus*&quot;</td><td>&quot;com.forumloft.schoolbus&quot;</td><td>&quot;Maps &amp; Navigation&quot;</td><td>4.1</td><td>27</td><td>&quot;1,000+&quot;</td><td>1000</td><td>2414</td><td>true</td><td>0</td><td>&quot;USD&quot;</td><td>&quot;11M&quot;</td><td>&quot;2.1 and up&quot;</td><td>&quot;Forumloft&quot;</td><td>&quot;http://forumloft.com&quot;</td><td>&quot;mail@forumloft.com&quot;</td><td>&quot;Dec 15, 2013&quot;</td><td>&quot;Dec 15, 2013&quot;</td><td>&quot;Everyone&quot;</td><td>&quot;http://forumloft.com/privacy_p…</td><td>false</td><td>false</td><td>false</td><td>&quot;2021-06-15 20:19:37&quot;</td></tr><tr><td>&quot;Cambodian.Express&quot;</td><td>&quot;com.cambodia.ceapp&quot;</td><td>&quot;Auto &amp; Vehicles&quot;</td><td>3.4</td><td>16</td><td>&quot;1,000+&quot;</td><td>1000</td><td>3784</td><td>true</td><td>0</td><td>&quot;USD&quot;</td><td>&quot;6.2M&quot;</td><td>&quot;4.1 and up&quot;</td><td>&quot;CCIT.TMS&quot;</td><td>null</td><td>&quot;heidi.lei@cambodianexpress.com&quot;</td><td>&quot;Dec 4, 2019&quot;</td><td>&quot;May 11, 2020&quot;</td><td>&quot;Everyone&quot;</td><td>&quot;https://www.cambodianexpress.c…</td><td>false</td><td>false</td><td>false</td><td>&quot;2021-06-15 20:19:37&quot;</td></tr><tr><td>&quot;Barnets Hair&quot;</td><td>&quot;com.phorest.barnetshair&quot;</td><td>&quot;Lifestyle&quot;</td><td>0.0</td><td>0</td><td>&quot;100+&quot;</td><td>100</td><td>345</td><td>true</td><td>0</td><td>&quot;USD&quot;</td><td>&quot;36M&quot;</td><td>&quot;5.0 and up&quot;</td><td>&quot;Phorest&quot;</td><td>null</td><td>&quot;deploy@phorest.com&quot;</td><td>&quot;Feb 8, 2018&quot;</td><td>&quot;Oct 23, 2020&quot;</td><td>&quot;Everyone&quot;</td><td>&quot;https://zanadoo.me/pages/priva…</td><td>false</td><td>false</td><td>false</td><td>&quot;2021-06-15 20:19:37&quot;</td></tr><tr><td>&quot;GaiaZOO&quot;</td><td>&quot;nl.haveaniceday.gaiazoo&quot;</td><td>&quot;Travel &amp; Local&quot;</td><td>3.4</td><td>67</td><td>&quot;10,000+&quot;</td><td>10000</td><td>30921</td><td>true</td><td>0</td><td>&quot;USD&quot;</td><td>&quot;7.6M&quot;</td><td>&quot;4.4 and up&quot;</td><td>&quot;Myler Media&quot;</td><td>&quot;http://www.gaiazoo.nl&quot;</td><td>&quot;info@GaiaZOO.nl&quot;</td><td>&quot;Oct 13, 2016&quot;</td><td>&quot;Jun 29, 2020&quot;</td><td>&quot;Everyone&quot;</td><td>&quot;https://www.gaiazoo.nl/privacy…</td><td>false</td><td>false</td><td>false</td><td>&quot;2021-06-15 20:19:37&quot;</td></tr><tr><td>&quot;Photo Brightness Editor - Imag…</td><td>&quot;image.photo.brightness.editor&quot;</td><td>&quot;Photography&quot;</td><td>2.5</td><td>21</td><td>&quot;5,000+&quot;</td><td>5000</td><td>8984</td><td>true</td><td>0</td><td>&quot;XXX&quot;</td><td>&quot;6.2M&quot;</td><td>&quot;4.4 and up&quot;</td><td>&quot;Anuoluwapo&quot;</td><td>&quot;https://spobam.com&quot;</td><td>&quot;bajiodunamis@gmail.com&quot;</td><td>&quot;Nov 13, 2020&quot;</td><td>&quot;Nov 14, 2020&quot;</td><td>&quot;Everyone&quot;</td><td>&quot;https://spobam.com/image-brigh…</td><td>true</td><td>false</td><td>false</td><td>&quot;2021-06-15 20:19:37&quot;</td></tr><tr><td>&quot;Creepy Story&quot;</td><td>&quot;com.creepypasta.club&quot;</td><td>&quot;Entertainment&quot;</td><td>0.0</td><td>0</td><td>&quot;10+&quot;</td><td>10</td><td>22</td><td>true</td><td>0</td><td>&quot;USD&quot;</td><td>&quot;6.1M&quot;</td><td>&quot;4.1 and up&quot;</td><td>&quot;AL Hidayah Corporation&quot;</td><td>null</td><td>&quot;andizulmai@gmail.com&quot;</td><td>&quot;May 28, 2019&quot;</td><td>&quot;May 30, 2019&quot;</td><td>&quot;Teen&quot;</td><td>&quot;http://hidayah.club/creepystor…</td><td>true</td><td>false</td><td>false</td><td>&quot;2021-06-15 20:19:37&quot;</td></tr><tr><td>&quot;Vancouver Bus Tracker&quot;</td><td>&quot;beyond.translinkbustracker&quot;</td><td>&quot;Maps &amp; Navigation&quot;</td><td>2.3</td><td>420</td><td>&quot;50,000+&quot;</td><td>50000</td><td>74510</td><td>true</td><td>0</td><td>&quot;USD&quot;</td><td>&quot;2.6M&quot;</td><td>&quot;4.0 and up&quot;</td><td>&quot;Beyond 2.0&quot;</td><td>&quot;http://www.Beyond20.ca&quot;</td><td>&quot;contact@bustracker.ca&quot;</td><td>&quot;Nov 6, 2013&quot;</td><td>&quot;Jun 06, 2017&quot;</td><td>&quot;Everyone&quot;</td><td>&quot;https://www.VancouverBusTracke…</td><td>true</td><td>false</td><td>false</td><td>&quot;2021-06-15 20:19:37&quot;</td></tr><tr><td>&quot;Serbia Audio Guide&quot;</td><td>&quot;apetra.tourguide&quot;</td><td>&quot;Travel &amp; Local&quot;</td><td>3.7</td><td>143</td><td>&quot;10,000+&quot;</td><td>10000</td><td>43422</td><td>true</td><td>0</td><td>&quot;USD&quot;</td><td>&quot;11M&quot;</td><td>&quot;4.1 and up&quot;</td><td>&quot;NTO Serbia&quot;</td><td>&quot;http://www.tos.org.rs&quot;</td><td>&quot;admin@serbia.travel&quot;</td><td>&quot;Feb 14, 2017&quot;</td><td>&quot;Dec 28, 2020&quot;</td><td>&quot;Everyone&quot;</td><td>&quot;http://www.tos.org.rs/tos.html&quot;</td><td>false</td><td>false</td><td>false</td><td>&quot;2021-06-15 20:19:37&quot;</td></tr><tr><td>&quot;Head Lice guide&quot;</td><td>&quot;com.andromo.dev667101.app67259…</td><td>&quot;Health &amp; Fitness&quot;</td><td>2.1</td><td>33</td><td>&quot;10,000+&quot;</td><td>10000</td><td>19889</td><td>true</td><td>0</td><td>&quot;USD&quot;</td><td>&quot;3.7M&quot;</td><td>&quot;4.1 and up&quot;</td><td>&quot;Free Apps For Everyone&quot;</td><td>&quot;https://w17cdeb7b.app-ads-txt.…</td><td>&quot;free.apps.for.everyone80@gmail…</td><td>&quot;Sep 27, 2017&quot;</td><td>&quot;May 29, 2020&quot;</td><td>&quot;Everyone&quot;</td><td>&quot;https://sites.google.com/view/…</td><td>true</td><td>false</td><td>false</td><td>&quot;2021-06-15 20:19:37&quot;</td></tr><tr><td>&quot;Calculus Tutorial 1: Introduct…</td><td>&quot;com.RaySemiSoft.CalculusT1&quot;</td><td>&quot;Education&quot;</td><td>0.0</td><td>0</td><td>&quot;100+&quot;</td><td>100</td><td>277</td><td>true</td><td>0</td><td>&quot;USD&quot;</td><td>&quot;15M&quot;</td><td>&quot;4.1 and up&quot;</td><td>&quot;RaySemiSoft&quot;</td><td>null</td><td>&quot;raysemisoft@gmail.com&quot;</td><td>&quot;Jun 18, 2020&quot;</td><td>&quot;Jun 01, 2021&quot;</td><td>&quot;Everyone&quot;</td><td>null</td><td>false</td><td>false</td><td>false</td><td>&quot;2021-06-15 20:19:37&quot;</td></tr><tr><td>&quot;Business Class Fitness&quot;</td><td>&quot;com.bhappdevelopment.samuelvan…</td><td>&quot;Health &amp; Fitness&quot;</td><td>0.0</td><td>0</td><td>&quot;1+&quot;</td><td>1</td><td>2</td><td>true</td><td>0</td><td>&quot;USD&quot;</td><td>&quot;10M&quot;</td><td>&quot;7.0 and up&quot;</td><td>&quot;BH App Development Ltd&quot;</td><td>null</td><td>&quot;svankuren@businessclass.fitnes…</td><td>&quot;Apr 5, 2020&quot;</td><td>&quot;Nov 29, 2020&quot;</td><td>&quot;Everyone&quot;</td><td>&quot;https://www.ptdistinction.com/…</td><td>false</td><td>false</td><td>false</td><td>&quot;2021-06-15 20:19:37&quot;</td></tr><tr><td>&quot;Sudan Flag Wallpaper: Flags, C…</td><td>&quot;com.techzit.sudanflagwallpaper&quot;</td><td>&quot;Personalization&quot;</td><td>0.0</td><td>0</td><td>&quot;100+&quot;</td><td>100</td><td>468</td><td>true</td><td>0</td><td>&quot;USD&quot;</td><td>&quot;8.9M&quot;</td><td>&quot;5.0 and up&quot;</td><td>&quot;TZLabs&quot;</td><td>&quot;https://toolsfairy.com&quot;</td><td>&quot;tzlabs4u@gmail.com&quot;</td><td>&quot;Jan 10, 2021&quot;</td><td>&quot;Jan 10, 2021&quot;</td><td>&quot;Teen&quot;</td><td>&quot;https://toolsfairy.com/privacy…</td><td>true</td><td>false</td><td>false</td><td>&quot;2021-06-15 20:19:37&quot;</td></tr><tr><td>&quot;BuradaOto&quot;</td><td>&quot;com.rzmobile.buradaoto&quot;</td><td>&quot;Shopping&quot;</td><td>4.9</td><td>102</td><td>&quot;1,000+&quot;</td><td>1000</td><td>4103</td><td>true</td><td>0</td><td>&quot;USD&quot;</td><td>&quot;3.9M&quot;</td><td>&quot;4.0.3 and up&quot;</td><td>&quot;Buradaoto&quot;</td><td>&quot;https://www.buradaoto.com/&quot;</td><td>&quot;Buradaoto@gmail.com&quot;</td><td>&quot;Aug 29, 2019&quot;</td><td>&quot;Sep 01, 2019&quot;</td><td>&quot;Everyone&quot;</td><td>&quot;https://www.buradaoto.com/gizl…</td><td>false</td><td>false</td><td>false</td><td>&quot;2021-06-15 20:19:37&quot;</td></tr><tr><td>&quot;MoveNow User&quot;</td><td>&quot;com.movenowcustomer&quot;</td><td>&quot;Travel &amp; Local&quot;</td><td>0.0</td><td>0</td><td>&quot;1+&quot;</td><td>1</td><td>2</td><td>true</td><td>0</td><td>&quot;USD&quot;</td><td>&quot;30M&quot;</td><td>&quot;4.1 and up&quot;</td><td>&quot;MoveNowApp&quot;</td><td>null</td><td>&quot;MoveNowApp2020@gmail.com&quot;</td><td>&quot;Feb 21, 2021&quot;</td><td>&quot;Mar 04, 2021&quot;</td><td>&quot;Everyone&quot;</td><td>&quot;https://movenow-api.ondemandcr…</td><td>false</td><td>false</td><td>false</td><td>&quot;2021-06-15 20:19:37&quot;</td></tr><tr><td>&quot;Niagara Falls Wallpapers&quot;</td><td>&quot;com.niagara.wallpapers.backgro…</td><td>&quot;Personalization&quot;</td><td>5.0</td><td>11</td><td>&quot;500+&quot;</td><td>500</td><td>825</td><td>true</td><td>0</td><td>&quot;USD&quot;</td><td>&quot;21M&quot;</td><td>&quot;4.1 and up&quot;</td><td>&quot;Legend APPS&quot;</td><td>null</td><td>&quot;legendapplication@gmail.com&quot;</td><td>&quot;May 30, 2020&quot;</td><td>&quot;May 30, 2020&quot;</td><td>&quot;Teen&quot;</td><td>null</td><td>true</td><td>false</td><td>false</td><td>&quot;2021-06-15 20:19:37&quot;</td></tr><tr><td>&quot;Extrude Balance&quot;</td><td>&quot;com.creatorsbureau.extrudebala…</td><td>&quot;Arcade&quot;</td><td>5.0</td><td>8</td><td>&quot;1,000+&quot;</td><td>1000</td><td>3427</td><td>true</td><td>0</td><td>&quot;USD&quot;</td><td>&quot;26M&quot;</td><td>&quot;5.0 and up&quot;</td><td>&quot;Creators Bureau&quot;</td><td>null</td><td>&quot;creatorsbureau@gmail.com&quot;</td><td>&quot;Jul 8, 2019&quot;</td><td>&quot;May 01, 2021&quot;</td><td>&quot;Everyone&quot;</td><td>&quot;https://unity3d.com/legal/priv…</td><td>true</td><td>true</td><td>false</td><td>&quot;2021-06-15 20:19:37&quot;</td></tr><tr><td>&quot;1-Click Hotspot&quot;</td><td>&quot;com.one.click.wifi.tethering.f…</td><td>&quot;Tools&quot;</td><td>2.7</td><td>420</td><td>&quot;50,000+&quot;</td><td>50000</td><td>59427</td><td>true</td><td>0</td><td>&quot;USD&quot;</td><td>&quot;4.9M&quot;</td><td>&quot;4.1 and up&quot;</td><td>&quot;Limonland Apps&quot;</td><td>&quot;https://uc294d7b9.app-ads-txt.…</td><td>&quot;enrasoftapps@gmail.com&quot;</td><td>&quot;Jun 28, 2013&quot;</td><td>&quot;Jan 14, 2020&quot;</td><td>&quot;Everyone&quot;</td><td>&quot;http://enrasoftapps.blogspot.c…</td><td>true</td><td>false</td><td>false</td><td>&quot;2021-06-15 20:19:37&quot;</td></tr><tr><td>&quot;Psychrometry Calculator&quot;</td><td>&quot;com.s3software.psychrometry&quot;</td><td>&quot;Tools&quot;</td><td>4.3</td><td>20</td><td>&quot;1,000+&quot;</td><td>1000</td><td>1396</td><td>true</td><td>0</td><td>&quot;USD&quot;</td><td>&quot;4.3M&quot;</td><td>&quot;4.0.3 and up&quot;</td><td>&quot;MEPPEDIA&quot;</td><td>&quot;http://Meppedia.com&quot;</td><td>&quot;info@mepa2z.com&quot;</td><td>&quot;Sep 2, 2019&quot;</td><td>&quot;Aug 16, 2020&quot;</td><td>&quot;Everyone&quot;</td><td>null</td><td>true</td><td>false</td><td>false</td><td>&quot;2021-06-15 20:19:38&quot;</td></tr><tr><td>&quot;Bounce &amp; Bubble&quot;</td><td>&quot;com.game.bouncebubble&quot;</td><td>&quot;Board&quot;</td><td>0.0</td><td>0</td><td>&quot;10+&quot;</td><td>10</td><td>37</td><td>true</td><td>0</td><td>&quot;USD&quot;</td><td>&quot;4.8M&quot;</td><td>&quot;2.2 and up&quot;</td><td>&quot;Kossta Tech Systems&quot;</td><td>&quot;http://www.kosstatech.com&quot;</td><td>&quot;ajishnair@kosstatech.com&quot;</td><td>&quot;Jul 15, 2016&quot;</td><td>&quot;Jul 18, 2016&quot;</td><td>&quot;Everyone&quot;</td><td>null</td><td>true</td><td>false</td><td>false</td><td>&quot;2021-06-15 20:19:38&quot;</td></tr><tr><td>&quot;Radio Louvor&quot;</td><td>&quot;hoostcomv2.francisco&quot;</td><td>&quot;Music &amp; Audio&quot;</td><td>0.0</td><td>0</td><td>&quot;100+&quot;</td><td>100</td><td>229</td><td>true</td><td>0</td><td>&quot;USD&quot;</td><td>&quot;4.6M&quot;</td><td>&quot;5.0 and up&quot;</td><td>&quot;Hoost&quot;</td><td>null</td><td>&quot;apps@hoost.com.br&quot;</td><td>&quot;Feb 12, 2020&quot;</td><td>&quot;Feb 11, 2021&quot;</td><td>&quot;Everyone&quot;</td><td>&quot;https://www.hoost.com.br/polit…</td><td>false</td><td>false</td><td>false</td><td>&quot;2021-06-15 20:19:38&quot;</td></tr><tr><td>&quot;Peribahasa Bahasa Indonesia&quot;</td><td>&quot;com.andromo.dev298605.app41281…</td><td>&quot;Books &amp; Reference&quot;</td><td>3.8</td><td>13</td><td>&quot;1,000+&quot;</td><td>1000</td><td>1079</td><td>true</td><td>0</td><td>&quot;USD&quot;</td><td>&quot;2.8M&quot;</td><td>&quot;4.1 and up&quot;</td><td>&quot;Irwana Studio&quot;</td><td>&quot;https://irwanastudio.com&quot;</td><td>&quot;irwankayen@gmail.com&quot;</td><td>&quot;Jun 19, 2015&quot;</td><td>&quot;Apr 22, 2020&quot;</td><td>&quot;Everyone&quot;</td><td>&quot;https://irwanastudio.blogspot.…</td><td>true</td><td>false</td><td>false</td><td>&quot;2021-06-15 20:19:38&quot;</td></tr><tr><td>&quot;Bowling Paradise Pro FREE&quot;</td><td>&quot;com.innolab.BowlingParadisePro…</td><td>&quot;Sports&quot;</td><td>4.4</td><td>2781</td><td>&quot;100,000+&quot;</td><td>100000</td><td>340980</td><td>true</td><td>0</td><td>&quot;USD&quot;</td><td>&quot;38M&quot;</td><td>&quot;2.1 and up&quot;</td><td>&quot;InnoLab&quot;</td><td>&quot;http://www.innolab-au.com&quot;</td><td>&quot;support@innolab-au.com&quot;</td><td>&quot;Apr 27, 2013&quot;</td><td>&quot;Mar 21, 2015&quot;</td><td>&quot;Everyone&quot;</td><td>null</td><td>true</td><td>true</td><td>false</td><td>&quot;2021-06-15 20:19:38&quot;</td></tr><tr><td>&hellip;</td><td>&hellip;</td><td>&hellip;</td><td>&hellip;</td><td>&hellip;</td><td>&hellip;</td><td>&hellip;</td><td>&hellip;</td><td>&hellip;</td><td>&hellip;</td><td>&hellip;</td><td>&hellip;</td><td>&hellip;</td><td>&hellip;</td><td>&hellip;</td><td>&hellip;</td><td>&hellip;</td><td>&hellip;</td><td>&hellip;</td><td>&hellip;</td><td>&hellip;</td><td>&hellip;</td><td>&hellip;</td><td>&hellip;</td></tr><tr><td>&quot;Learn Hindi Quickly Through En…</td><td>&quot;com.geetaregmi.learnhindi&quot;</td><td>&quot;Education&quot;</td><td>0.0</td><td>0</td><td>&quot;100+&quot;</td><td>100</td><td>130</td><td>true</td><td>0</td><td>&quot;USD&quot;</td><td>&quot;18M&quot;</td><td>&quot;4.1 and up&quot;</td><td>&quot;ElseBazaar&quot;</td><td>&quot;http://www.elsebazaar.com/blog&quot;</td><td>&quot;geetaregmime@hotmail.com&quot;</td><td>&quot;Mar 16, 2020&quot;</td><td>&quot;Sep 18, 2020&quot;</td><td>&quot;Everyone&quot;</td><td>&quot;https://seasonwebdesign.weebly…</td><td>true</td><td>false</td><td>false</td><td>&quot;2021-06-16 12:59:16&quot;</td></tr><tr><td>&quot;FAIRTIQ&quot;</td><td>&quot;com.fairtiq.android&quot;</td><td>&quot;Maps &amp; Navigation&quot;</td><td>4.2</td><td>3797</td><td>&quot;100,000+&quot;</td><td>100000</td><td>317297</td><td>true</td><td>0</td><td>&quot;USD&quot;</td><td>&quot;21M&quot;</td><td>&quot;6.0 and up&quot;</td><td>&quot;FAIRTIQ Ltd&quot;</td><td>&quot;https://www.fairtiq.com&quot;</td><td>&quot;feedback@fairtiq.com&quot;</td><td>&quot;Apr 27, 2016&quot;</td><td>&quot;May 31, 2021&quot;</td><td>&quot;Everyone&quot;</td><td>&quot;https://fairtiq.com/en-ch/poli…</td><td>false</td><td>false</td><td>false</td><td>&quot;2021-06-16 12:59:16&quot;</td></tr><tr><td>&quot;GAT&quot;</td><td>&quot;com.traderevolution.gat&quot;</td><td>&quot;Finance&quot;</td><td>0.0</td><td>0</td><td>&quot;100+&quot;</td><td>100</td><td>210</td><td>true</td><td>0</td><td>&quot;USD&quot;</td><td>&quot;8.4M&quot;</td><td>&quot;5.0 and up&quot;</td><td>&quot;Global Assets Technology&quot;</td><td>&quot;https://gat.technology &quot;</td><td>&quot;info@gat.technology&quot;</td><td>&quot;Apr 10, 2020&quot;</td><td>&quot;May 25, 2021&quot;</td><td>&quot;Everyone&quot;</td><td>null</td><td>false</td><td>false</td><td>false</td><td>&quot;2021-06-16 12:59:16&quot;</td></tr><tr><td>&quot;IPlace - Share, store places, …</td><td>&quot;com.apvn.iplace&quot;</td><td>&quot;Travel &amp; Local&quot;</td><td>4.5</td><td>13</td><td>&quot;100+&quot;</td><td>100</td><td>115</td><td>true</td><td>0</td><td>&quot;USD&quot;</td><td>&quot;8.2M&quot;</td><td>&quot;7.0 and up&quot;</td><td>&quot;A.P.V. Norge&quot;</td><td>&quot;https://www.apvnorge.no&quot;</td><td>&quot;vklocurek@apvnorge.no&quot;</td><td>&quot;Aug 7, 2019&quot;</td><td>&quot;Aug 27, 2020&quot;</td><td>&quot;Teen&quot;</td><td>&quot;https://www.apvnorge.no/softwa…</td><td>true</td><td>false</td><td>false</td><td>&quot;2021-06-16 12:59:16&quot;</td></tr><tr><td>&quot;AppBundle&quot;</td><td>&quot;com.mercadolibre.android.test&quot;</td><td>&quot;Shopping&quot;</td><td>0.0</td><td>0</td><td>&quot;10+&quot;</td><td>10</td><td>14</td><td>true</td><td>0</td><td>&quot;USD&quot;</td><td>&quot;1.2M&quot;</td><td>&quot;4.1 and up&quot;</td><td>&quot;Mercado Libre&quot;</td><td>&quot;http://www.mercadolibre.com&quot;</td><td>&quot;android.market@mercadolibre.co…</td><td>null</td><td>&quot;Nov 11, 2019&quot;</td><td>&quot;Everyone&quot;</td><td>&quot;http://ayuda.mercadolibre.com.…</td><td>true</td><td>false</td><td>false</td><td>&quot;2021-06-16 12:59:17&quot;</td></tr><tr><td>&quot;Class 9 Nepali Book Offline&quot;</td><td>&quot;com.nepalibook.classnine.nepal…</td><td>&quot;Books &amp; Reference&quot;</td><td>4.3</td><td>14</td><td>&quot;1,000+&quot;</td><td>1000</td><td>4230</td><td>true</td><td>0</td><td>&quot;USD&quot;</td><td>&quot;11M&quot;</td><td>&quot;4.4 and up&quot;</td><td>&quot;Nepali Apps Ghar&quot;</td><td>null</td><td>&quot;nepaliappsg@gmail.com&quot;</td><td>&quot;Dec 28, 2020&quot;</td><td>&quot;Mar 28, 2021&quot;</td><td>&quot;Everyone&quot;</td><td>&quot;https://docs.google.com/docume…</td><td>true</td><td>false</td><td>false</td><td>&quot;2021-06-16 12:59:17&quot;</td></tr><tr><td>&quot;Ice Cream Cake Recipe&quot;</td><td>&quot;ice.cream.cake.recipe.tstapps&quot;</td><td>&quot;Food &amp; Drink&quot;</td><td>0.0</td><td>0</td><td>&quot;1,000+&quot;</td><td>1000</td><td>1420</td><td>true</td><td>0</td><td>&quot;USD&quot;</td><td>&quot;8.8M&quot;</td><td>&quot;4.0.3 and up&quot;</td><td>&quot;The Story Teller&quot;</td><td>null</td><td>&quot;sagarwala02@gmail.com&quot;</td><td>&quot;Jan 19, 2018&quot;</td><td>&quot;Jan 20, 2018&quot;</td><td>&quot;Everyone&quot;</td><td>&quot;http://thestorytellerapps.com/…</td><td>true</td><td>false</td><td>false</td><td>&quot;2021-06-16 12:59:17&quot;</td></tr><tr><td>&quot;Helperoo Crew App&quot;</td><td>&quot;com.app.helperoocrewapp&quot;</td><td>&quot;Business&quot;</td><td>0.0</td><td>0</td><td>&quot;10+&quot;</td><td>10</td><td>12</td><td>true</td><td>0</td><td>&quot;USD&quot;</td><td>&quot;34M&quot;</td><td>&quot;5.0 and up&quot;</td><td>&quot;Guardian Developer&quot;</td><td>null</td><td>&quot;sghelperoo@gmail.com&quot;</td><td>&quot;Jan 11, 2021&quot;</td><td>&quot;Jan 11, 2021&quot;</td><td>&quot;Everyone&quot;</td><td>&quot;https://appcdn.media/privacy/?…</td><td>false</td><td>false</td><td>false</td><td>&quot;2021-06-16 12:59:17&quot;</td></tr><tr><td>&quot;Wheel King Trans Haul App&quot;</td><td>&quot;com.wheelkingtranshaul.starter&quot;</td><td>&quot;Travel &amp; Local&quot;</td><td>3.5</td><td>6</td><td>&quot;100+&quot;</td><td>100</td><td>262</td><td>true</td><td>0</td><td>&quot;USD&quot;</td><td>&quot;46M&quot;</td><td>&quot;5.1 and up&quot;</td><td>&quot;Wheelking Trans Haul Inc.&quot;</td><td>&quot;http://www.wheelkingtranshaul.…</td><td>&quot;info@wheelkingtranshaul.com&quot;</td><td>&quot;Nov 19, 2019&quot;</td><td>&quot;Jun 07, 2021&quot;</td><td>&quot;Everyone&quot;</td><td>&quot;http://www.wheelkingtranshaul.…</td><td>false</td><td>false</td><td>false</td><td>&quot;2021-06-16 12:59:17&quot;</td></tr><tr><td>&quot;Kenia Os - Roast Yourself&quot;</td><td>&quot;com.keniaos.roastyourself.vgz&quot;</td><td>&quot;Music &amp; Audio&quot;</td><td>4.2</td><td>41</td><td>&quot;5,000+&quot;</td><td>5000</td><td>6835</td><td>true</td><td>0</td><td>&quot;USD&quot;</td><td>&quot;3.8M&quot;</td><td>&quot;4.1 and up&quot;</td><td>&quot;vgz&quot;</td><td>null</td><td>&quot;eriamdi@gmail.com&quot;</td><td>&quot;Mar 13, 2020&quot;</td><td>&quot;May 08, 2020&quot;</td><td>&quot;Teen&quot;</td><td>null</td><td>true</td><td>false</td><td>false</td><td>&quot;2021-06-16 12:59:17&quot;</td></tr><tr><td>&quot;Ama Puzzle&quot;</td><td>&quot;com.sleek.amapuzzle&quot;</td><td>&quot;Puzzle&quot;</td><td>0.0</td><td>0</td><td>&quot;100+&quot;</td><td>100</td><td>138</td><td>true</td><td>0</td><td>&quot;USD&quot;</td><td>&quot;28M&quot;</td><td>&quot;4.1 and up&quot;</td><td>&quot;adeshek&quot;</td><td>null</td><td>&quot;aimhighrtsk19@gmail.com&quot;</td><td>&quot;Apr 17, 2020&quot;</td><td>&quot;Jun 27, 2020&quot;</td><td>&quot;Everyone&quot;</td><td>&quot;http://adeshekprivacypolicy.bl…</td><td>true</td><td>false</td><td>false</td><td>&quot;2021-06-16 12:59:17&quot;</td></tr><tr><td>&quot;AR Quick Measure&quot;</td><td>&quot;com.itchysoftware.arquickmeasu…</td><td>&quot;Tools&quot;</td><td>2.9</td><td>356</td><td>&quot;100,000+&quot;</td><td>100000</td><td>267950</td><td>true</td><td>0</td><td>&quot;USD&quot;</td><td>&quot;18M&quot;</td><td>&quot;2.3.3 and up&quot;</td><td>&quot;Itchy Software&quot;</td><td>&quot;http://www.itchysoftware.com.a…</td><td>&quot;itchysoftware@gmail.com&quot;</td><td>&quot;Jun 11, 2018&quot;</td><td>&quot;Jun 11, 2018&quot;</td><td>&quot;Everyone&quot;</td><td>&quot;http://itchysoftware.com.au&quot;</td><td>false</td><td>false</td><td>false</td><td>&quot;2021-06-16 12:59:17&quot;</td></tr><tr><td>&quot;Wedding Dresses&quot;</td><td>&quot;orav.bridal.ideas.apps23&quot;</td><td>&quot;Lifestyle&quot;</td><td>0.0</td><td>0</td><td>&quot;50+&quot;</td><td>50</td><td>67</td><td>true</td><td>0</td><td>&quot;USD&quot;</td><td>&quot;2.9M&quot;</td><td>&quot;4.0 and up&quot;</td><td>&quot;Chak Muck&quot;</td><td>null</td><td>&quot;ouradcha@gmail.com&quot;</td><td>&quot;Nov 20, 2017&quot;</td><td>&quot;Nov 20, 2017&quot;</td><td>&quot;Everyone&quot;</td><td>&quot;http://chakmuck.blogspot.com.t…</td><td>false</td><td>false</td><td>false</td><td>&quot;2021-06-16 12:59:17&quot;</td></tr><tr><td>&quot;Naandi CA&quot;</td><td>&quot;nahnikali.mahindra.com.project…</td><td>&quot;Communication&quot;</td><td>3.7</td><td>93</td><td>&quot;10,000+&quot;</td><td>10000</td><td>10827</td><td>true</td><td>0</td><td>&quot;USD&quot;</td><td>&quot;5.1M&quot;</td><td>&quot;5.0 and up&quot;</td><td>&quot;Mahindra Enterprise Mobility&quot;</td><td>&quot;http://www.mahindra.com&quot;</td><td>&quot;mobilityhelpdesk@mahindra.com&quot;</td><td>null</td><td>&quot;Aug 29, 2019&quot;</td><td>&quot;Everyone&quot;</td><td>&quot;http://www.naandi.org/privacy-…</td><td>false</td><td>false</td><td>false</td><td>&quot;2021-06-16 12:59:17&quot;</td></tr><tr><td>&quot;Elapse | Take control of your …</td><td>&quot;com.oguzhankadaifciler.oscarro…</td><td>&quot;Productivity&quot;</td><td>0.0</td><td>0</td><td>&quot;100+&quot;</td><td>100</td><td>233</td><td>true</td><td>0</td><td>&quot;USD&quot;</td><td>&quot;3.7M&quot;</td><td>&quot;4.2 and up&quot;</td><td>&quot;Futuristic Developers - Sentir…</td><td>&quot;http://www.oguzhankadaifciler.…</td><td>&quot;elapse@oguzhankadaifciler.com&quot;</td><td>&quot;Apr 27, 2018&quot;</td><td>&quot;May 04, 2018&quot;</td><td>&quot;Everyone&quot;</td><td>&quot;http://www.oguzhankadaifciler.…</td><td>false</td><td>false</td><td>false</td><td>&quot;2021-06-16 12:59:17&quot;</td></tr><tr><td>&quot;Century College&quot;</td><td>&quot;com.readyeducation.centurycoll…</td><td>&quot;Education&quot;</td><td>5.0</td><td>10</td><td>&quot;100+&quot;</td><td>100</td><td>230</td><td>true</td><td>0</td><td>&quot;USD&quot;</td><td>&quot;9.8M&quot;</td><td>&quot;4.0 and up&quot;</td><td>&quot;Century College&quot;</td><td>&quot;https://www.readyeducation.com&quot;</td><td>&quot;support@readyeducation.com&quot;</td><td>&quot;Aug 26, 2020&quot;</td><td>&quot;May 24, 2021&quot;</td><td>&quot;Everyone&quot;</td><td>&quot;https://www.readyeducation.com…</td><td>false</td><td>false</td><td>false</td><td>&quot;2021-06-16 12:59:17&quot;</td></tr><tr><td>&quot;Brain Color - Colorful Puzzles&quot;</td><td>&quot;com.braincolor.braincolor&quot;</td><td>&quot;Puzzle&quot;</td><td>0.0</td><td>0</td><td>&quot;10+&quot;</td><td>10</td><td>25</td><td>true</td><td>0</td><td>&quot;USD&quot;</td><td>&quot;3.6M&quot;</td><td>&quot;5.0 and up&quot;</td><td>&quot;Alexis Leblond&quot;</td><td>null</td><td>&quot;alexis.lbld@gmail.com&quot;</td><td>&quot;Mar 11, 2018&quot;</td><td>&quot;May 01, 2018&quot;</td><td>&quot;Everyone&quot;</td><td>&quot;http://braincolor.fr&quot;</td><td>true</td><td>false</td><td>false</td><td>&quot;2021-06-16 12:59:17&quot;</td></tr><tr><td>&quot;Pájara&quot;</td><td>&quot;com.inventiaplus.pajara&quot;</td><td>&quot;Books &amp; Reference&quot;</td><td>0.0</td><td>0</td><td>&quot;100+&quot;</td><td>100</td><td>303</td><td>true</td><td>0</td><td>&quot;USD&quot;</td><td>&quot;7.1M&quot;</td><td>&quot;4.1 and up&quot;</td><td>&quot;Inventia Plus s.l.&quot;</td><td>&quot;http://www.inventiaplus.com&quot;</td><td>&quot;info@inventiaplus.com&quot;</td><td>&quot;Aug 18, 2016&quot;</td><td>&quot;Jan 17, 2017&quot;</td><td>&quot;Everyone&quot;</td><td>&quot;http://inventiaplus.com/es/pol…</td><td>false</td><td>false</td><td>false</td><td>&quot;2021-06-16 12:59:17&quot;</td></tr><tr><td>&quot;King Drug and Home Healthcare&quot;</td><td>&quot;com.rxwikiplus.a7808652645&quot;</td><td>&quot;Health &amp; Fitness&quot;</td><td>0.0</td><td>0</td><td>&quot;100+&quot;</td><td>100</td><td>199</td><td>true</td><td>0</td><td>&quot;USD&quot;</td><td>&quot;2.9M&quot;</td><td>&quot;5.0 and up&quot;</td><td>&quot;Digital Pharmacist Inc.&quot;</td><td>&quot;http://www.digitalpharmacist.c…</td><td>&quot;feedback@digitalpharmacist.com&quot;</td><td>&quot;Dec 5, 2014&quot;</td><td>&quot;Dec 18, 2019&quot;</td><td>&quot;Everyone 10+&quot;</td><td>&quot;http://www.rxwiki.com/site-pol…</td><td>true</td><td>false</td><td>false</td><td>&quot;2021-06-16 12:59:17&quot;</td></tr><tr><td>&quot;Moneygment&quot;</td><td>&quot;ph.moneygment&quot;</td><td>&quot;Finance&quot;</td><td>2.0</td><td>1687</td><td>&quot;100,000+&quot;</td><td>100000</td><td>187822</td><td>true</td><td>0</td><td>&quot;USD&quot;</td><td>&quot;12M&quot;</td><td>&quot;4.4 and up&quot;</td><td>&quot;Togetech Inc.&quot;</td><td>&quot;https://moneygment.ph/&quot;</td><td>&quot;customercare@moneygment.ph&quot;</td><td>&quot;Oct 21, 2017&quot;</td><td>&quot;Jun 07, 2021&quot;</td><td>&quot;Everyone&quot;</td><td>&quot;https://moneygment.ph/privacy-…</td><td>false</td><td>false</td><td>false</td><td>&quot;2021-06-16 12:59:17&quot;</td></tr><tr><td>&quot;Go Rentals Agent&quot;</td><td>&quot;com.gorentals.driver&quot;</td><td>&quot;Business&quot;</td><td>0.0</td><td>0</td><td>&quot;10+&quot;</td><td>10</td><td>49</td><td>true</td><td>0</td><td>&quot;USD&quot;</td><td>&quot;18M&quot;</td><td>&quot;4.1 and up&quot;</td><td>&quot;Go Rentals (Pty) Ltd&quot;</td><td>&quot;https://www.gorentals.co.za&quot;</td><td>&quot;support@gorentals.co.za&quot;</td><td>&quot;Jul 8, 2019&quot;</td><td>&quot;Jul 08, 2019&quot;</td><td>&quot;Everyone&quot;</td><td>&quot;https://www.gorentals.co.za&quot;</td><td>false</td><td>false</td><td>false</td><td>&quot;2021-06-16 12:59:17&quot;</td></tr><tr><td>&quot;RTRO-CLC2&quot;</td><td>&quot;xyz.digital_ninja.retroCalcula…</td><td>&quot;Productivity&quot;</td><td>0.0</td><td>0</td><td>&quot;50+&quot;</td><td>50</td><td>79</td><td>true</td><td>0</td><td>&quot;USD&quot;</td><td>&quot;4.8M&quot;</td><td>&quot;7.0 and up&quot;</td><td>&quot;Oto Inša&quot;</td><td>&quot;https://digital-ninja.xyz/#/sh…</td><td>&quot;otoinsa@gmail.com&quot;</td><td>&quot;Oct 7, 2019&quot;</td><td>&quot;Nov 06, 2019&quot;</td><td>&quot;Everyone&quot;</td><td>&quot;https://status.digital-ninja.x…</td><td>false</td><td>false</td><td>false</td><td>&quot;2021-06-16 12:59:17&quot;</td></tr><tr><td>&quot;The Cleaners Rack&quot;</td><td>&quot;com.cleanersrack.storeapp&quot;</td><td>&quot;Shopping&quot;</td><td>0.0</td><td>0</td><td>&quot;1+&quot;</td><td>1</td><td>4</td><td>true</td><td>0</td><td>&quot;USD&quot;</td><td>&quot;5.5M&quot;</td><td>&quot;4.4 and up&quot;</td><td>&quot;E-adz Creative Solution&quot;</td><td>&quot;http://e-adz.net&quot;</td><td>&quot;atifspall@gmail.com&quot;</td><td>&quot;May 27, 2019&quot;</td><td>&quot;Jul 15, 2020&quot;</td><td>&quot;Everyone&quot;</td><td>null</td><td>true</td><td>false</td><td>false</td><td>&quot;2021-06-16 12:59:17&quot;</td></tr><tr><td>&quot;Gujarati Attitude Status&quot;</td><td>&quot;com.volfire.attitude_gujarati_…</td><td>&quot;Social&quot;</td><td>0.0</td><td>0</td><td>&quot;1,000+&quot;</td><td>1000</td><td>2511</td><td>true</td><td>0</td><td>&quot;USD&quot;</td><td>&quot;9.1M&quot;</td><td>&quot;4.4 and up&quot;</td><td>&quot;VolFire&quot;</td><td>&quot;http://167.99.14.158&quot;</td><td>&quot;volfireofficial@gmail.com&quot;</td><td>&quot;Jul 24, 2020&quot;</td><td>&quot;Jul 24, 2020&quot;</td><td>&quot;Teen&quot;</td><td>&quot;https://sites.google.com/view/…</td><td>true</td><td>false</td><td>false</td><td>&quot;2021-06-16 12:59:17&quot;</td></tr><tr><td>&quot;La Sicilia Edicola Digitale&quot;</td><td>&quot;andr.lasicilia.agrigento&quot;</td><td>&quot;Entertainment&quot;</td><td>2.7</td><td>81</td><td>&quot;10,000+&quot;</td><td>10000</td><td>20415</td><td>true</td><td>0</td><td>&quot;USD&quot;</td><td>&quot;22M&quot;</td><td>&quot;4.0.3 and up&quot;</td><td>&quot;Domenico Sanfilippo Editore S.…</td><td>&quot;http://lasicilia.it&quot;</td><td>&quot;abbonamenti@lasicilia.it&quot;</td><td>&quot;Apr 16, 2015&quot;</td><td>&quot;Apr 06, 2020&quot;</td><td>&quot;Everyone&quot;</td><td>&quot;https://edicola.lasicilia.it/l…</td><td>true</td><td>false</td><td>false</td><td>&quot;2021-06-16 12:59:17&quot;</td></tr><tr><td>&quot;Good Night Quotes&quot;</td><td>&quot;com.appmakerz.goodnightquotes&quot;</td><td>&quot;Personalization&quot;</td><td>4.8</td><td>5</td><td>&quot;100+&quot;</td><td>100</td><td>437</td><td>true</td><td>0</td><td>&quot;USD&quot;</td><td>&quot;10M&quot;</td><td>&quot;4.1 and up&quot;</td><td>&quot;App Makerz&quot;</td><td>null</td><td>&quot;appmakerz526@gmail.com&quot;</td><td>&quot;Aug 13, 2018&quot;</td><td>&quot;Oct 31, 2019&quot;</td><td>&quot;Teen&quot;</td><td>&quot;http://appsmakerz.blogspot.com…</td><td>true</td><td>false</td><td>false</td><td>&quot;2021-06-16 12:59:17&quot;</td></tr><tr><td>&quot;Mod Siren Head Horror Map&quot;</td><td>&quot;com.Councilium.mod.Siren.Head&quot;</td><td>&quot;Entertainment&quot;</td><td>0.0</td><td>0</td><td>&quot;100+&quot;</td><td>100</td><td>404</td><td>true</td><td>0</td><td>&quot;USD&quot;</td><td>&quot;45M&quot;</td><td>&quot;5.0 and up&quot;</td><td>&quot;Councilium Block Place&quot;</td><td>null</td><td>&quot;sofiapavliuk66@gmail.com&quot;</td><td>&quot;Apr 15, 2021&quot;</td><td>&quot;Apr 15, 2021&quot;</td><td>&quot;Everyone&quot;</td><td>&quot;https://sites.google.com/view/…</td><td>true</td><td>false</td><td>false</td><td>&quot;2021-06-16 12:59:18&quot;</td></tr><tr><td>&quot;Georgia DMV Driver License Pra…</td><td>&quot;com.blackblin.dmv.ga&quot;</td><td>&quot;Tools&quot;</td><td>0.0</td><td>0</td><td>&quot;100+&quot;</td><td>100</td><td>240</td><td>true</td><td>0</td><td>&quot;USD&quot;</td><td>&quot;6.5M&quot;</td><td>&quot;4.1 and up&quot;</td><td>&quot;Kekeland&quot;</td><td>null</td><td>&quot;service@blackblin.com&quot;</td><td>&quot;Nov 22, 2019&quot;</td><td>&quot;Nov 23, 2019&quot;</td><td>&quot;Everyone&quot;</td><td>null</td><td>true</td><td>false</td><td>false</td><td>&quot;2021-06-16 12:59:18&quot;</td></tr><tr><td>&quot;DkVentas&quot;</td><td>&quot;ar.com.dekagb.dekaventas&quot;</td><td>&quot;Business&quot;</td><td>0.0</td><td>0</td><td>&quot;50+&quot;</td><td>50</td><td>75</td><td>true</td><td>0</td><td>&quot;USD&quot;</td><td>&quot;5.6M&quot;</td><td>&quot;4.4 and up&quot;</td><td>&quot;DekaGb&quot;</td><td>&quot;http://www.dekagb.com&quot;</td><td>&quot;hbalussi@dekagb.com&quot;</td><td>&quot;Feb 25, 2014&quot;</td><td>&quot;Apr 03, 2019&quot;</td><td>&quot;Everyone&quot;</td><td>&quot;http://s1.dekagb.com/terminos/…</td><td>false</td><td>false</td><td>false</td><td>&quot;2021-06-16 12:59:18&quot;</td></tr><tr><td>&quot;חג פסחא שמח&quot;</td><td>&quot;fr.enfantdoudou.pqheb&quot;</td><td>&quot;Entertainment&quot;</td><td>0.0</td><td>0</td><td>&quot;1+&quot;</td><td>1</td><td>4</td><td>true</td><td>0</td><td>&quot;USD&quot;</td><td>&quot;8.0M&quot;</td><td>&quot;4.0 and up&quot;</td><td>&quot;thanki&quot;</td><td>null</td><td>&quot;pridgua@gmail.com&quot;</td><td>&quot;Feb 13, 2020&quot;</td><td>&quot;Feb 13, 2020&quot;</td><td>&quot;Everyone&quot;</td><td>&quot;https://www.ftc.gov/tips-advic…</td><td>true</td><td>false</td><td>false</td><td>&quot;2021-06-16 12:59:18&quot;</td></tr><tr><td>&quot;How to Make Money From Website&quot;</td><td>&quot;com.rojas.htmkmfrmst&quot;</td><td>&quot;Books &amp; Reference&quot;</td><td>0.0</td><td>0</td><td>&quot;1+&quot;</td><td>1</td><td>2</td><td>true</td><td>0</td><td>&quot;USD&quot;</td><td>&quot;925k&quot;</td><td>&quot;4.0 and up&quot;</td><td>&quot;WR Apps.&quot;</td><td>null</td><td>&quot;Wrojas29@gmail.com&quot;</td><td>&quot;Nov 22, 2019&quot;</td><td>&quot;Nov 22, 2019&quot;</td><td>&quot;Everyone&quot;</td><td>null</td><td>true</td><td>false</td><td>false</td><td>&quot;2021-06-16 12:59:18&quot;</td></tr><tr><td>&quot;GOKarli Carrera Rennbahn und D…</td><td>&quot;de.gokarli.shop&quot;</td><td>&quot;Shopping&quot;</td><td>0.0</td><td>0</td><td>&quot;1,000+&quot;</td><td>1000</td><td>2418</td><td>true</td><td>0</td><td>&quot;USD&quot;</td><td>&quot;9.4M&quot;</td><td>&quot;6.0 and up&quot;</td><td>&quot;GOKarli e.K.&quot;</td><td>&quot;https://www.gokarli.de/&quot;</td><td>&quot;info@GOKarli.de&quot;</td><td>&quot;Feb 10, 2020&quot;</td><td>&quot;May 28, 2021&quot;</td><td>&quot;Everyone&quot;</td><td>&quot;https://www.gokarli.de/Datensc…</td><td>false</td><td>false</td><td>false</td><td>&quot;2021-06-16 12:59:18&quot;</td></tr><tr><td>&quot;Asset Data Collection&quot;</td><td>&quot;com.linq.assetdatacollection&quot;</td><td>&quot;Business&quot;</td><td>0.0</td><td>0</td><td>&quot;500+&quot;</td><td>500</td><td>687</td><td>true</td><td>0</td><td>&quot;USD&quot;</td><td>&quot;3.3M&quot;</td><td>&quot;5.0 and up&quot;</td><td>&quot;Linq Americas&quot;</td><td>&quot;http://linq.io/&quot;</td><td>&quot;linq@entronix.io&quot;</td><td>&quot;Dec 13, 2018&quot;</td><td>&quot;Mar 24, 2021&quot;</td><td>&quot;Everyone&quot;</td><td>&quot;https://entronix.io/index.php/…</td><td>false</td><td>false</td><td>false</td><td>&quot;2021-06-16 12:59:18&quot;</td></tr><tr><td>&quot;Gear Ratio Calculator&quot;</td><td>&quot;jp.abt.lopnur.gearratiocalc&quot;</td><td>&quot;Sports&quot;</td><td>0.0</td><td>0</td><td>&quot;100+&quot;</td><td>100</td><td>201</td><td>false</td><td>null</td><td>&quot;USD&quot;</td><td>&quot;994k&quot;</td><td>&quot;2.1 and up&quot;</td><td>&quot;ABT&quot;</td><td>&quot;http://www.abt.jp&quot;</td><td>&quot;abtdev@gmail.com&quot;</td><td>&quot;Jun 19, 2012&quot;</td><td>&quot;Nov 09, 2012&quot;</td><td>&quot;Everyone&quot;</td><td>null</td><td>false</td><td>false</td><td>false</td><td>&quot;2021-06-16 12:59:18&quot;</td></tr><tr><td>&quot;Nutrishop Boise Meridian&quot;</td><td>&quot;com.tapmango.nutrishopbm&quot;</td><td>&quot;Health &amp; Fitness&quot;</td><td>0.0</td><td>0</td><td>&quot;100+&quot;</td><td>100</td><td>195</td><td>true</td><td>0</td><td>&quot;USD&quot;</td><td>&quot;20M&quot;</td><td>&quot;4.1 and up&quot;</td><td>&quot;TapMango Inc.&quot;</td><td>&quot;http://www.tapmango.com&quot;</td><td>&quot;support@tapmango.com&quot;</td><td>&quot;Mar 27, 2018&quot;</td><td>&quot;Mar 27, 2018&quot;</td><td>&quot;Everyone&quot;</td><td>null</td><td>false</td><td>false</td><td>false</td><td>&quot;2021-06-16 12:59:18&quot;</td></tr><tr><td>&quot;Murottal Muh Tha al Junayd Off…</td><td>&quot;com.andromo.dev471643.app43619…</td><td>&quot;Entertainment&quot;</td><td>4.4</td><td>23</td><td>&quot;1,000+&quot;</td><td>1000</td><td>1783</td><td>true</td><td>0</td><td>&quot;USD&quot;</td><td>&quot;65M&quot;</td><td>&quot;4.0 and up&quot;</td><td>&quot;Bunda Nino&quot;</td><td>null</td><td>&quot;missbundanino@gmail.com&quot;</td><td>&quot;Oct 2, 2015&quot;</td><td>&quot;Apr 15, 2018&quot;</td><td>&quot;Everyone&quot;</td><td>&quot;https://docs.google.com/docume…</td><td>true</td><td>false</td><td>false</td><td>&quot;2021-06-16 12:59:18&quot;</td></tr><tr><td>&quot;PAX&quot;</td><td>&quot;com.apreciasoft.mobile.pax&quot;</td><td>&quot;Travel &amp; Local&quot;</td><td>3.3</td><td>7</td><td>&quot;100+&quot;</td><td>100</td><td>388</td><td>true</td><td>0</td><td>&quot;USD&quot;</td><td>&quot;22M&quot;</td><td>&quot;4.4 and up&quot;</td><td>&quot;Apreciasoft Software&quot;</td><td>&quot;http://www.asremis.com&quot;</td><td>&quot;ventas@apreciasoft.com&quot;</td><td>&quot;Sep 2, 2019&quot;</td><td>&quot;Nov 26, 2020&quot;</td><td>&quot;Everyone&quot;</td><td>&quot;https://as-nube.com/privacyPol…</td><td>false</td><td>false</td><td>false</td><td>&quot;2021-06-16 12:59:18&quot;</td></tr><tr><td>&quot;Driving Day&quot;</td><td>&quot;com.day.drivingday&quot;</td><td>&quot;Entertainment&quot;</td><td>2.8</td><td>1002</td><td>&quot;500,000+&quot;</td><td>500000</td><td>590469</td><td>true</td><td>0</td><td>&quot;USD&quot;</td><td>&quot;2.8M&quot;</td><td>&quot;4.0.3 and up&quot;</td><td>&quot;maan1patel0&quot;</td><td>null</td><td>&quot;maan1patel0@gmail.com&quot;</td><td>&quot;Jun 10, 2020&quot;</td><td>&quot;Jun 10, 2020&quot;</td><td>&quot;Everyone&quot;</td><td>&quot;https://docs.google.com/docume…</td><td>true</td><td>false</td><td>false</td><td>&quot;2021-06-16 12:59:18&quot;</td></tr><tr><td>&quot;Hopeless 2: Cave Escape&quot;</td><td>&quot;com.upopa.hopeless2&quot;</td><td>&quot;Action&quot;</td><td>4.3</td><td>103466</td><td>&quot;5,000,000+&quot;</td><td>5000000</td><td>7274660</td><td>true</td><td>0</td><td>&quot;USD&quot;</td><td>&quot;37M&quot;</td><td>&quot;4.0.3 and up&quot;</td><td>&quot;Upopa Games&quot;</td><td>&quot;http://www.upopa.com&quot;</td><td>&quot;support@upopa.com&quot;</td><td>&quot;Oct 29, 2015&quot;</td><td>&quot;Mar 06, 2017&quot;</td><td>&quot;Teen&quot;</td><td>&quot;http://www.upopa.com/games/hop…</td><td>true</td><td>true</td><td>false</td><td>&quot;2021-06-16 12:59:18&quot;</td></tr><tr><td>&quot;Caustic Editor for VolcaSample&quot;</td><td>&quot;com.singlecellsoftware.kvsampl…</td><td>&quot;Music &amp; Audio&quot;</td><td>4.0</td><td>344</td><td>&quot;500,000+&quot;</td><td>500000</td><td>814548</td><td>true</td><td>0</td><td>&quot;USD&quot;</td><td>&quot;4.1M&quot;</td><td>&quot;2.2 and up&quot;</td><td>&quot;Single Cell Software&quot;</td><td>&quot;http://www.singlecellsoftware.…</td><td>&quot;causticapp@gmail.com&quot;</td><td>&quot;Dec 11, 2014&quot;</td><td>&quot;Dec 11, 2014&quot;</td><td>&quot;Everyone&quot;</td><td>&quot;http://www.singlecellsoftware.…</td><td>false</td><td>false</td><td>false</td><td>&quot;2021-06-16 12:59:18&quot;</td></tr><tr><td>&quot;Vietnamese - English Translato…</td><td>&quot;com.eliminatesapps.vietnameset…</td><td>&quot;Education&quot;</td><td>0.0</td><td>0</td><td>&quot;5+&quot;</td><td>5</td><td>6</td><td>true</td><td>0</td><td>&quot;USD&quot;</td><td>&quot;3.6M&quot;</td><td>&quot;4.0 and up&quot;</td><td>&quot;Eliminates Apps&quot;</td><td>&quot;https://af24d8239.app-ads-txt.…</td><td>&quot;eliminatesapps@gmail.com&quot;</td><td>&quot;Jun 15, 2020&quot;</td><td>&quot;Aug 31, 2020&quot;</td><td>&quot;Everyone&quot;</td><td>&quot;https://sites.google.com/view/…</td><td>true</td><td>false</td><td>false</td><td>&quot;2021-06-16 12:59:18&quot;</td></tr><tr><td>&quot;Floral Wallpaper&quot;</td><td>&quot;com.arfdev.floralwallpaper&quot;</td><td>&quot;Personalization&quot;</td><td>0.0</td><td>0</td><td>&quot;1,000+&quot;</td><td>1000</td><td>1302</td><td>true</td><td>0</td><td>&quot;USD&quot;</td><td>&quot;29M&quot;</td><td>&quot;4.1 and up&quot;</td><td>&quot;arfdev&quot;</td><td>null</td><td>&quot;arfdev56@gmail.com&quot;</td><td>&quot;Jul 19, 2018&quot;</td><td>&quot;Nov 13, 2019&quot;</td><td>&quot;Everyone&quot;</td><td>&quot;https://docs.google.com/docume…</td><td>true</td><td>false</td><td>false</td><td>&quot;2021-06-16 12:59:18&quot;</td></tr><tr><td>&quot;Engineers Careers&quot;</td><td>&quot;com.eventapps.eventapps&quot;</td><td>&quot;Business&quot;</td><td>0.0</td><td>0</td><td>&quot;100+&quot;</td><td>100</td><td>353</td><td>true</td><td>0</td><td>&quot;USD&quot;</td><td>&quot;21M&quot;</td><td>&quot;5.0 and up&quot;</td><td>&quot;Eventi&quot;</td><td>null</td><td>&quot;rami.osama.selim@gmail.com&quot;</td><td>&quot;Mar 5, 2020&quot;</td><td>&quot;Feb 29, 2020&quot;</td><td>&quot;Everyone&quot;</td><td>null</td><td>false</td><td>false</td><td>false</td><td>&quot;2021-06-16 12:59:18&quot;</td></tr><tr><td>&quot;STMIK Mercusuar - Aditya Rachm…</td><td>&quot;com.aplikasi.datapribadiadit&quot;</td><td>&quot;Education&quot;</td><td>0.0</td><td>0</td><td>&quot;5+&quot;</td><td>5</td><td>7</td><td>true</td><td>0</td><td>&quot;USD&quot;</td><td>&quot;6.6M&quot;</td><td>&quot;4.4 and up&quot;</td><td>&quot;STMIK Mercusuar&quot;</td><td>null</td><td>&quot;rachmanaditya5@gmail.com&quot;</td><td>&quot;Jan 15, 2020&quot;</td><td>&quot;Jan 15, 2020&quot;</td><td>&quot;Everyone&quot;</td><td>null</td><td>false</td><td>false</td><td>false</td><td>&quot;2021-06-16 12:59:18&quot;</td></tr><tr><td>&quot;Lero TOEFL Recorder + Timer&quot;</td><td>&quot;com.toefltimer&quot;</td><td>&quot;Education&quot;</td><td>3.4</td><td>17</td><td>&quot;1,000+&quot;</td><td>1000</td><td>1980</td><td>true</td><td>0</td><td>&quot;USD&quot;</td><td>&quot;10M&quot;</td><td>&quot;4.1 and up&quot;</td><td>&quot;Julio Augusto Vera&quot;</td><td>&quot;https://lerodoe.wordpress.com/&quot;</td><td>&quot;lero.doe@gmail.com&quot;</td><td>&quot;May 22, 2018&quot;</td><td>&quot;Dec 14, 2018&quot;</td><td>&quot;Everyone&quot;</td><td>&quot;https://lerodoe.wordpress.com/…</td><td>true</td><td>false</td><td>false</td><td>&quot;2021-06-16 12:59:18&quot;</td></tr><tr><td>&quot;大俠客—熱血歸來&quot;</td><td>&quot;com.rxsj.ssjj&quot;</td><td>&quot;Role Playing&quot;</td><td>4.3</td><td>16775</td><td>&quot;100,000+&quot;</td><td>100000</td><td>337109</td><td>true</td><td>0</td><td>&quot;USD&quot;</td><td>&quot;77M&quot;</td><td>&quot;4.1 and up&quot;</td><td>&quot;ALICE GAME&quot;</td><td>&quot;http://www.4399sy.com.hk/&quot;</td><td>&quot;ssjjcomhk@gmail.com&quot;</td><td>null</td><td>&quot;Jun 01, 2021&quot;</td><td>&quot;Teen&quot;</td><td>&quot;http://a.4399sy.com.hk/user/ag…</td><td>false</td><td>false</td><td>false</td><td>&quot;2021-06-16 12:59:18&quot;</td></tr><tr><td>&quot;ORU Online&quot;</td><td>&quot;com.threedream.oruonline&quot;</td><td>&quot;Education&quot;</td><td>0.0</td><td>0</td><td>&quot;100+&quot;</td><td>100</td><td>430</td><td>true</td><td>0</td><td>&quot;USD&quot;</td><td>&quot;44M&quot;</td><td>&quot;4.1 and up&quot;</td><td>&quot;3Dream Studios, LLC&quot;</td><td>&quot;http://www.oru.edu/&quot;</td><td>&quot;3DreamDeveloper@gmail.com&quot;</td><td>&quot;Jan 17, 2018&quot;</td><td>&quot;Feb 02, 2018&quot;</td><td>&quot;Everyone&quot;</td><td>&quot;http://www.oru.edu/about-oru/p…</td><td>false</td><td>false</td><td>false</td><td>&quot;2021-06-16 12:59:19&quot;</td></tr><tr><td>&quot;Data Structure&quot;</td><td>&quot;datastructure.appoworld.datast…</td><td>&quot;Education&quot;</td><td>0.0</td><td>0</td><td>&quot;100+&quot;</td><td>100</td><td>202</td><td>true</td><td>0</td><td>&quot;USD&quot;</td><td>&quot;29M&quot;</td><td>&quot;5.0 and up&quot;</td><td>&quot;appoworld&quot;</td><td>null</td><td>&quot;appoworld.official@gmail.com&quot;</td><td>&quot;Aug 19, 2018&quot;</td><td>&quot;Aug 19, 2018&quot;</td><td>&quot;Everyone&quot;</td><td>&quot;https://appoworld.000webhostap…</td><td>false</td><td>false</td><td>false</td><td>&quot;2021-06-16 12:59:19&quot;</td></tr><tr><td>&quot;Devi Suktam&quot;</td><td>&quot;ishan.devi.suktam&quot;</td><td>&quot;Music &amp; Audio&quot;</td><td>3.5</td><td>8</td><td>&quot;1,000+&quot;</td><td>1000</td><td>2635</td><td>true</td><td>0</td><td>&quot;USD&quot;</td><td>&quot;10M&quot;</td><td>&quot;5.0 and up&quot;</td><td>&quot;Bhakti&quot;</td><td>&quot;https://a70f78905.app-ads-txt.…</td><td>&quot;ruchisono@gmail.com&quot;</td><td>&quot;Aug 1, 2016&quot;</td><td>&quot;May 05, 2021&quot;</td><td>&quot;Everyone&quot;</td><td>&quot;https://docs.google.com/docume…</td><td>true</td><td>false</td><td>false</td><td>&quot;2021-06-16 12:59:19&quot;</td></tr><tr><td>&quot;Biliyor Musun - Sonsuz Yarış&quot;</td><td>&quot;com.yyazilim.biliyormusun&quot;</td><td>&quot;Trivia&quot;</td><td>5.0</td><td>12</td><td>&quot;100+&quot;</td><td>100</td><td>354</td><td>true</td><td>0</td><td>&quot;USD&quot;</td><td>&quot;5.2M&quot;</td><td>&quot;5.0 and up&quot;</td><td>&quot;Y Yazılım&quot;</td><td>null</td><td>&quot;yyazilimdevelop@gmail.com&quot;</td><td>&quot;Aug 9, 2019&quot;</td><td>&quot;Aug 19, 2019&quot;</td><td>&quot;Everyone&quot;</td><td>&quot;https://biliyor-musun-sons.fly…</td><td>true</td><td>false</td><td>false</td><td>&quot;2021-06-16 12:59:19&quot;</td></tr></tbody></table></div>"
      ],
      "text/plain": [
       "shape: (2_312_944, 24)\n",
       "┌─────────────────┬────────────────┬────────────────┬────────┬───┬──────────────┬───────────┬─────────┬────────────────┐\n",
       "│ App Name        ┆ App Id         ┆ Category       ┆ Rating ┆ … ┆ Ad Supported ┆ In App    ┆ Editors ┆ Scraped Time   │\n",
       "│ ---             ┆ ---            ┆ ---            ┆ ---    ┆   ┆ ---          ┆ Purchases ┆ Choice  ┆ ---            │\n",
       "│ str             ┆ str            ┆ str            ┆ f64    ┆   ┆ bool         ┆ ---       ┆ ---     ┆ str            │\n",
       "│                 ┆                ┆                ┆        ┆   ┆              ┆ bool      ┆ bool    ┆                │\n",
       "╞═════════════════╪════════════════╪════════════════╪════════╪═══╪══════════════╪═══════════╪═════════╪════════════════╡\n",
       "│ Gakondo         ┆ com.ishakwe.ga ┆ Adventure      ┆ 0.0    ┆ … ┆ false        ┆ false     ┆ false   ┆ 2021-06-15     │\n",
       "│                 ┆ kondo          ┆                ┆        ┆   ┆              ┆           ┆         ┆ 20:19:35       │\n",
       "│ Ampere Battery  ┆ com.webserveis ┆ Tools          ┆ 4.4    ┆ … ┆ true         ┆ false     ┆ false   ┆ 2021-06-15     │\n",
       "│ Info            ┆ .batteryinfo   ┆                ┆        ┆   ┆              ┆           ┆         ┆ 20:19:35       │\n",
       "│ Vibook          ┆ com.doantiepvi ┆ Productivity   ┆ 0.0    ┆ … ┆ false        ┆ false     ┆ false   ┆ 2021-06-15     │\n",
       "│                 ┆ en.crm         ┆                ┆        ┆   ┆              ┆           ┆         ┆ 20:19:35       │\n",
       "│ Smart City      ┆ cst.stJoseph.u ┆ Communication  ┆ 5.0    ┆ … ┆ true         ┆ false     ┆ false   ┆ 2021-06-15     │\n",
       "│ Trichy Public   ┆ g17ucs548      ┆                ┆        ┆   ┆              ┆           ┆         ┆ 20:19:35       │\n",
       "│ Servi…          ┆                ┆                ┆        ┆   ┆              ┆           ┆         ┆                │\n",
       "│ GROW.me         ┆ com.horodyski. ┆ Tools          ┆ 0.0    ┆ … ┆ false        ┆ false     ┆ false   ┆ 2021-06-15     │\n",
       "│                 ┆ grower         ┆                ┆        ┆   ┆              ┆           ┆         ┆ 20:19:35       │\n",
       "│ IMOCCI          ┆ com.imocci     ┆ Social         ┆ 0.0    ┆ … ┆ false        ┆ true      ┆ false   ┆ 2021-06-15     │\n",
       "│                 ┆                ┆                ┆        ┆   ┆              ┆           ┆         ┆ 20:19:35       │\n",
       "│ unlimited 4G    ┆ getfreedata.su ┆ Libraries &    ┆ 4.5    ┆ … ┆ true         ┆ false     ┆ false   ┆ 2021-06-15     │\n",
       "│ data prank free ┆ perfatiza.unli ┆ Demo           ┆        ┆   ┆              ┆           ┆         ┆ 20:19:35       │\n",
       "│ a…              ┆ mi…            ┆                ┆        ┆   ┆              ┆           ┆         ┆                │\n",
       "│ The Everyday    ┆ com.mozaix.sim ┆ Lifestyle      ┆ 2.0    ┆ … ┆ false        ┆ false     ┆ false   ┆ 2021-06-15     │\n",
       "│ Calendar        ┆ oneboard       ┆                ┆        ┆   ┆              ┆           ┆         ┆ 20:19:35       │\n",
       "│ WhatsOpen       ┆ com.whatsopen. ┆ Communication  ┆ 0.0    ┆ … ┆ false        ┆ false     ┆ false   ┆ 2021-06-15     │\n",
       "│                 ┆ app            ┆                ┆        ┆   ┆              ┆           ┆         ┆ 20:19:35       │\n",
       "│ Neon 3d Iron    ┆ com.ikeyboard. ┆ Personalizatio ┆ 4.7    ┆ … ┆ true         ┆ false     ┆ false   ┆ 2021-06-15     │\n",
       "│ Tech Keyboard   ┆ theme.neon_3d. ┆ n              ┆        ┆   ┆              ┆           ┆         ┆ 20:19:35       │\n",
       "│ The…            ┆ ir…            ┆                ┆        ┆   ┆              ┆           ┆         ┆                │\n",
       "│ Dodge The Cars! ┆ com.MrScratchE ┆ Racing         ┆ 4.9    ┆ … ┆ false        ┆ false     ┆ false   ┆ 2021-06-15     │\n",
       "│                 ┆ nterprises.Car ┆                ┆        ┆   ┆              ┆           ┆         ┆ 20:19:35       │\n",
       "│                 ┆ Do…            ┆                ┆        ┆   ┆              ┆           ┆         ┆                │\n",
       "│ Parents         ┆ com.eqra.andro ┆ Maps &         ┆ 0.0    ┆ … ┆ false        ┆ false     ┆ false   ┆ 2021-06-15     │\n",
       "│                 ┆ id.BSTS.parent ┆ Navigation     ┆        ┆   ┆              ┆           ┆         ┆ 20:19:36       │\n",
       "│ 桃園機場捷運時  ┆ com.jieapp.tao ┆ Travel & Local ┆ 3.9    ┆ … ┆ true         ┆ false     ┆ false   ┆ 2021-06-15     │\n",
       "│ 刻表 - 捷運轉乘 ┆ yuanmetro      ┆                ┆        ┆   ┆              ┆           ┆         ┆ 20:19:36       │\n",
       "│ 路線快速查詢(支 ┆                ┆                ┆        ┆   ┆              ┆           ┆         ┆                │\n",
       "│ 援台北捷運)     ┆                ┆                ┆        ┆   ┆              ┆           ┆         ┆                │\n",
       "│ be.MOBILISED    ┆ com.hastobe.be ┆ Maps &         ┆ 0.0    ┆ … ┆ false        ┆ false     ┆ false   ┆ 2021-06-15     │\n",
       "│                 ┆ mobilised      ┆ Navigation     ┆        ┆   ┆              ┆           ┆         ┆ 20:19:36       │\n",
       "│ Caliway         ┆ com.caliwaycon ┆ Travel & Local ┆ 3.7    ┆ … ┆ false        ┆ false     ┆ false   ┆ 2021-06-15     │\n",
       "│ Conductor       ┆ ductor.driver  ┆                ┆        ┆   ┆              ┆           ┆         ┆ 20:19:36       │\n",
       "│ Readymade       ┆ com.ionicfireb ┆ Food & Drink   ┆ 4.2    ┆ … ┆ false        ┆ false     ┆ false   ┆ 2021-06-15     │\n",
       "│ Grocery App     ┆ aseapp.readyma ┆                ┆        ┆   ┆              ┆           ┆         ┆ 20:19:36       │\n",
       "│                 ┆ de…            ┆                ┆        ┆   ┆              ┆           ┆         ┆                │\n",
       "│ OTENTIK         ┆ com.camineo.ot ┆ Travel & Local ┆ 3.4    ┆ … ┆ false        ┆ false     ┆ false   ┆ 2021-06-15     │\n",
       "│ Discovery FR    ┆ entikdiscovery ┆                ┆        ┆   ┆              ┆           ┆         ┆ 20:19:36       │\n",
       "│                 ┆ DL…            ┆                ┆        ┆   ┆              ┆           ┆         ┆                │\n",
       "│ All in one      ┆ com.tkapplicat ┆ Tools          ┆ 5.0    ┆ … ┆ false        ┆ false     ┆ false   ┆ 2021-06-15     │\n",
       "│ shopping app    ┆ ions.allinones ┆                ┆        ┆   ┆              ┆           ┆         ┆ 20:19:36       │\n",
       "│                 ┆ ho…            ┆                ┆        ┆   ┆              ┆           ┆         ┆                │\n",
       "│ REDMOND  Robot  ┆ com.grit.redmo ┆ Lifestyle      ┆ 3.7    ┆ … ┆ false        ┆ false     ┆ false   ┆ 2021-06-15     │\n",
       "│                 ┆ nd             ┆                ┆        ┆   ┆              ┆           ┆         ┆ 20:19:36       │\n",
       "│ Contemporary    ┆ com.felingdev. ┆ Books &        ┆ 0.0    ┆ … ┆ true         ┆ false     ┆ false   ┆ 2021-06-15     │\n",
       "│ Love Wallpaper  ┆ lowalpaper     ┆ Reference      ┆        ┆   ┆              ┆           ┆         ┆ 20:19:36       │\n",
       "│ HD              ┆                ┆                ┆        ┆   ┆              ┆           ┆         ┆                │\n",
       "│ Nepali Congress ┆ np.com.NepaliC ┆ Social         ┆ 0.0    ┆ … ┆ false        ┆ false     ┆ false   ┆ 2021-06-15     │\n",
       "│                 ┆ ongress        ┆                ┆        ┆   ┆              ┆           ┆         ┆ 20:19:36       │\n",
       "│ Bhavan's BHEL   ┆ com.bhavans.vi ┆ Medical        ┆ 0.0    ┆ … ┆ false        ┆ false     ┆ false   ┆ 2021-06-15     │\n",
       "│ VIM             ┆ m              ┆                ┆        ┆   ┆              ┆           ┆         ┆ 20:19:36       │\n",
       "│ Block Fill:     ┆ com.mailbeegam ┆ Puzzle         ┆ 4.4    ┆ … ┆ true         ┆ true      ┆ false   ┆ 2021-06-15     │\n",
       "│ Puzzle Game     ┆ es.casual.brai ┆                ┆        ┆   ┆              ┆           ┆         ┆ 20:19:36       │\n",
       "│                 ┆ n.…            ┆                ┆        ┆   ┆              ┆           ┆         ┆                │\n",
       "│ Coloring Book   ┆ com.bisgumah.b ┆ Entertainment  ┆ 3.8    ┆ … ┆ true         ┆ false     ┆ false   ┆ 2021-06-15     │\n",
       "│ Barbaie         ┆ arbie          ┆                ┆        ┆   ┆              ┆           ┆         ┆ 20:19:36       │\n",
       "│ Random Number   ┆ com.gary.rando ┆ Tools          ┆ 4.2    ┆ … ┆ true         ┆ false     ┆ false   ┆ 2021-06-15     │\n",
       "│ Generator       ┆ mnumber        ┆                ┆        ┆   ┆              ┆           ┆         ┆ 20:19:37       │\n",
       "│ Sticky Ball     ┆ com.mitochondr ┆ Arcade         ┆ 4.6    ┆ … ┆ true         ┆ true      ┆ false   ┆ 2021-06-15     │\n",
       "│                 ┆ iastudios.stic ┆                ┆        ┆   ┆              ┆           ┆         ┆ 20:19:37       │\n",
       "│                 ┆ ky…            ┆                ┆        ┆   ┆              ┆           ┆         ┆                │\n",
       "│ CUBIC RUNNER    ┆ jp.ga_software ┆ Arcade         ┆ 0.0    ┆ … ┆ true         ┆ true      ┆ false   ┆ 2021-06-15     │\n",
       "│                 ┆ .cubicrunner   ┆                ┆        ┆   ┆              ┆           ┆         ┆ 20:19:37       │\n",
       "│ Dj Car Sound    ┆ com.melonappsv ┆ Entertainment  ┆ 0.0    ┆ … ┆ true         ┆ false     ┆ false   ┆ 2021-06-15     │\n",
       "│ And Sound       ┆ pn.dj_carsound ┆                ┆        ┆   ┆              ┆           ┆         ┆ 20:19:37       │\n",
       "│ Effects…        ┆ s              ┆                ┆        ┆   ┆              ┆           ┆         ┆                │\n",
       "│ Schoolbus*      ┆ com.forumloft. ┆ Maps &         ┆ 4.1    ┆ … ┆ false        ┆ false     ┆ false   ┆ 2021-06-15     │\n",
       "│                 ┆ schoolbus      ┆ Navigation     ┆        ┆   ┆              ┆           ┆         ┆ 20:19:37       │\n",
       "│ Cambodian.Expre ┆ com.cambodia.c ┆ Auto &         ┆ 3.4    ┆ … ┆ false        ┆ false     ┆ false   ┆ 2021-06-15     │\n",
       "│ ss              ┆ eapp           ┆ Vehicles       ┆        ┆   ┆              ┆           ┆         ┆ 20:19:37       │\n",
       "│ Barnets Hair    ┆ com.phorest.ba ┆ Lifestyle      ┆ 0.0    ┆ … ┆ false        ┆ false     ┆ false   ┆ 2021-06-15     │\n",
       "│                 ┆ rnetshair      ┆                ┆        ┆   ┆              ┆           ┆         ┆ 20:19:37       │\n",
       "│ GaiaZOO         ┆ nl.haveaniceda ┆ Travel & Local ┆ 3.4    ┆ … ┆ false        ┆ false     ┆ false   ┆ 2021-06-15     │\n",
       "│                 ┆ y.gaiazoo      ┆                ┆        ┆   ┆              ┆           ┆         ┆ 20:19:37       │\n",
       "│ Photo           ┆ image.photo.br ┆ Photography    ┆ 2.5    ┆ … ┆ true         ┆ false     ┆ false   ┆ 2021-06-15     │\n",
       "│ Brightness      ┆ ightness.edito ┆                ┆        ┆   ┆              ┆           ┆         ┆ 20:19:37       │\n",
       "│ Editor - Imag…  ┆ r              ┆                ┆        ┆   ┆              ┆           ┆         ┆                │\n",
       "│ Creepy Story    ┆ com.creepypast ┆ Entertainment  ┆ 0.0    ┆ … ┆ true         ┆ false     ┆ false   ┆ 2021-06-15     │\n",
       "│                 ┆ a.club         ┆                ┆        ┆   ┆              ┆           ┆         ┆ 20:19:37       │\n",
       "│ Vancouver Bus   ┆ beyond.transli ┆ Maps &         ┆ 2.3    ┆ … ┆ true         ┆ false     ┆ false   ┆ 2021-06-15     │\n",
       "│ Tracker         ┆ nkbustracker   ┆ Navigation     ┆        ┆   ┆              ┆           ┆         ┆ 20:19:37       │\n",
       "│ Serbia Audio    ┆ apetra.tourgui ┆ Travel & Local ┆ 3.7    ┆ … ┆ false        ┆ false     ┆ false   ┆ 2021-06-15     │\n",
       "│ Guide           ┆ de             ┆                ┆        ┆   ┆              ┆           ┆         ┆ 20:19:37       │\n",
       "│ Head Lice guide ┆ com.andromo.de ┆ Health &       ┆ 2.1    ┆ … ┆ true         ┆ false     ┆ false   ┆ 2021-06-15     │\n",
       "│                 ┆ v667101.app672 ┆ Fitness        ┆        ┆   ┆              ┆           ┆         ┆ 20:19:37       │\n",
       "│                 ┆ 59…            ┆                ┆        ┆   ┆              ┆           ┆         ┆                │\n",
       "│ Calculus        ┆ com.RaySemiSof ┆ Education      ┆ 0.0    ┆ … ┆ false        ┆ false     ┆ false   ┆ 2021-06-15     │\n",
       "│ Tutorial 1:     ┆ t.CalculusT1   ┆                ┆        ┆   ┆              ┆           ┆         ┆ 20:19:37       │\n",
       "│ Introduct…      ┆                ┆                ┆        ┆   ┆              ┆           ┆         ┆                │\n",
       "│ Business Class  ┆ com.bhappdevel ┆ Health &       ┆ 0.0    ┆ … ┆ false        ┆ false     ┆ false   ┆ 2021-06-15     │\n",
       "│ Fitness         ┆ opment.samuelv ┆ Fitness        ┆        ┆   ┆              ┆           ┆         ┆ 20:19:37       │\n",
       "│                 ┆ an…            ┆                ┆        ┆   ┆              ┆           ┆         ┆                │\n",
       "│ Sudan Flag      ┆ com.techzit.su ┆ Personalizatio ┆ 0.0    ┆ … ┆ true         ┆ false     ┆ false   ┆ 2021-06-15     │\n",
       "│ Wallpaper:      ┆ danflagwallpap ┆ n              ┆        ┆   ┆              ┆           ┆         ┆ 20:19:37       │\n",
       "│ Flags, C…       ┆ er             ┆                ┆        ┆   ┆              ┆           ┆         ┆                │\n",
       "│ BuradaOto       ┆ com.rzmobile.b ┆ Shopping       ┆ 4.9    ┆ … ┆ false        ┆ false     ┆ false   ┆ 2021-06-15     │\n",
       "│                 ┆ uradaoto       ┆                ┆        ┆   ┆              ┆           ┆         ┆ 20:19:37       │\n",
       "│ MoveNow User    ┆ com.movenowcus ┆ Travel & Local ┆ 0.0    ┆ … ┆ false        ┆ false     ┆ false   ┆ 2021-06-15     │\n",
       "│                 ┆ tomer          ┆                ┆        ┆   ┆              ┆           ┆         ┆ 20:19:37       │\n",
       "│ Niagara Falls   ┆ com.niagara.wa ┆ Personalizatio ┆ 5.0    ┆ … ┆ true         ┆ false     ┆ false   ┆ 2021-06-15     │\n",
       "│ Wallpapers      ┆ llpapers.backg ┆ n              ┆        ┆   ┆              ┆           ┆         ┆ 20:19:37       │\n",
       "│                 ┆ ro…            ┆                ┆        ┆   ┆              ┆           ┆         ┆                │\n",
       "│ Extrude Balance ┆ com.creatorsbu ┆ Arcade         ┆ 5.0    ┆ … ┆ true         ┆ true      ┆ false   ┆ 2021-06-15     │\n",
       "│                 ┆ reau.extrudeba ┆                ┆        ┆   ┆              ┆           ┆         ┆ 20:19:37       │\n",
       "│                 ┆ la…            ┆                ┆        ┆   ┆              ┆           ┆         ┆                │\n",
       "│ 1-Click Hotspot ┆ com.one.click. ┆ Tools          ┆ 2.7    ┆ … ┆ true         ┆ false     ┆ false   ┆ 2021-06-15     │\n",
       "│                 ┆ wifi.tethering ┆                ┆        ┆   ┆              ┆           ┆         ┆ 20:19:37       │\n",
       "│                 ┆ .f…            ┆                ┆        ┆   ┆              ┆           ┆         ┆                │\n",
       "│ Psychrometry    ┆ com.s3software ┆ Tools          ┆ 4.3    ┆ … ┆ true         ┆ false     ┆ false   ┆ 2021-06-15     │\n",
       "│ Calculator      ┆ .psychrometry  ┆                ┆        ┆   ┆              ┆           ┆         ┆ 20:19:38       │\n",
       "│ Bounce & Bubble ┆ com.game.bounc ┆ Board          ┆ 0.0    ┆ … ┆ true         ┆ false     ┆ false   ┆ 2021-06-15     │\n",
       "│                 ┆ ebubble        ┆                ┆        ┆   ┆              ┆           ┆         ┆ 20:19:38       │\n",
       "│ Radio Louvor    ┆ hoostcomv2.fra ┆ Music & Audio  ┆ 0.0    ┆ … ┆ false        ┆ false     ┆ false   ┆ 2021-06-15     │\n",
       "│                 ┆ ncisco         ┆                ┆        ┆   ┆              ┆           ┆         ┆ 20:19:38       │\n",
       "│ Peribahasa      ┆ com.andromo.de ┆ Books &        ┆ 3.8    ┆ … ┆ true         ┆ false     ┆ false   ┆ 2021-06-15     │\n",
       "│ Bahasa          ┆ v298605.app412 ┆ Reference      ┆        ┆   ┆              ┆           ┆         ┆ 20:19:38       │\n",
       "│ Indonesia       ┆ 81…            ┆                ┆        ┆   ┆              ┆           ┆         ┆                │\n",
       "│ Bowling         ┆ com.innolab.Bo ┆ Sports         ┆ 4.4    ┆ … ┆ true         ┆ true      ┆ false   ┆ 2021-06-15     │\n",
       "│ Paradise Pro    ┆ wlingParadiseP ┆                ┆        ┆   ┆              ┆           ┆         ┆ 20:19:38       │\n",
       "│ FREE            ┆ ro…            ┆                ┆        ┆   ┆              ┆           ┆         ┆                │\n",
       "│ …               ┆ …              ┆ …              ┆ …      ┆ … ┆ …            ┆ …         ┆ …       ┆ …              │\n",
       "│ Learn Hindi     ┆ com.geetaregmi ┆ Education      ┆ 0.0    ┆ … ┆ true         ┆ false     ┆ false   ┆ 2021-06-16     │\n",
       "│ Quickly Through ┆ .learnhindi    ┆                ┆        ┆   ┆              ┆           ┆         ┆ 12:59:16       │\n",
       "│ En…             ┆                ┆                ┆        ┆   ┆              ┆           ┆         ┆                │\n",
       "│ FAIRTIQ         ┆ com.fairtiq.an ┆ Maps &         ┆ 4.2    ┆ … ┆ false        ┆ false     ┆ false   ┆ 2021-06-16     │\n",
       "│                 ┆ droid          ┆ Navigation     ┆        ┆   ┆              ┆           ┆         ┆ 12:59:16       │\n",
       "│ GAT             ┆ com.traderevol ┆ Finance        ┆ 0.0    ┆ … ┆ false        ┆ false     ┆ false   ┆ 2021-06-16     │\n",
       "│                 ┆ ution.gat      ┆                ┆        ┆   ┆              ┆           ┆         ┆ 12:59:16       │\n",
       "│ IPlace - Share, ┆ com.apvn.iplac ┆ Travel & Local ┆ 4.5    ┆ … ┆ true         ┆ false     ┆ false   ┆ 2021-06-16     │\n",
       "│ store places, … ┆ e              ┆                ┆        ┆   ┆              ┆           ┆         ┆ 12:59:16       │\n",
       "│ AppBundle       ┆ com.mercadolib ┆ Shopping       ┆ 0.0    ┆ … ┆ true         ┆ false     ┆ false   ┆ 2021-06-16     │\n",
       "│                 ┆ re.android.tes ┆                ┆        ┆   ┆              ┆           ┆         ┆ 12:59:17       │\n",
       "│                 ┆ t              ┆                ┆        ┆   ┆              ┆           ┆         ┆                │\n",
       "│ Class 9 Nepali  ┆ com.nepalibook ┆ Books &        ┆ 4.3    ┆ … ┆ true         ┆ false     ┆ false   ┆ 2021-06-16     │\n",
       "│ Book Offline    ┆ .classnine.nep ┆ Reference      ┆        ┆   ┆              ┆           ┆         ┆ 12:59:17       │\n",
       "│                 ┆ al…            ┆                ┆        ┆   ┆              ┆           ┆         ┆                │\n",
       "│ Ice Cream Cake  ┆ ice.cream.cake ┆ Food & Drink   ┆ 0.0    ┆ … ┆ true         ┆ false     ┆ false   ┆ 2021-06-16     │\n",
       "│ Recipe          ┆ .recipe.tstapp ┆                ┆        ┆   ┆              ┆           ┆         ┆ 12:59:17       │\n",
       "│                 ┆ s              ┆                ┆        ┆   ┆              ┆           ┆         ┆                │\n",
       "│ Helperoo Crew   ┆ com.app.helper ┆ Business       ┆ 0.0    ┆ … ┆ false        ┆ false     ┆ false   ┆ 2021-06-16     │\n",
       "│ App             ┆ oocrewapp      ┆                ┆        ┆   ┆              ┆           ┆         ┆ 12:59:17       │\n",
       "│ Wheel King      ┆ com.wheelkingt ┆ Travel & Local ┆ 3.5    ┆ … ┆ false        ┆ false     ┆ false   ┆ 2021-06-16     │\n",
       "│ Trans Haul App  ┆ ranshaul.start ┆                ┆        ┆   ┆              ┆           ┆         ┆ 12:59:17       │\n",
       "│                 ┆ er             ┆                ┆        ┆   ┆              ┆           ┆         ┆                │\n",
       "│ Kenia Os -      ┆ com.keniaos.ro ┆ Music & Audio  ┆ 4.2    ┆ … ┆ true         ┆ false     ┆ false   ┆ 2021-06-16     │\n",
       "│ Roast Yourself  ┆ astyourself.vg ┆                ┆        ┆   ┆              ┆           ┆         ┆ 12:59:17       │\n",
       "│                 ┆ z              ┆                ┆        ┆   ┆              ┆           ┆         ┆                │\n",
       "│ Ama Puzzle      ┆ com.sleek.amap ┆ Puzzle         ┆ 0.0    ┆ … ┆ true         ┆ false     ┆ false   ┆ 2021-06-16     │\n",
       "│                 ┆ uzzle          ┆                ┆        ┆   ┆              ┆           ┆         ┆ 12:59:17       │\n",
       "│ AR Quick        ┆ com.itchysoftw ┆ Tools          ┆ 2.9    ┆ … ┆ false        ┆ false     ┆ false   ┆ 2021-06-16     │\n",
       "│ Measure         ┆ are.arquickmea ┆                ┆        ┆   ┆              ┆           ┆         ┆ 12:59:17       │\n",
       "│                 ┆ su…            ┆                ┆        ┆   ┆              ┆           ┆         ┆                │\n",
       "│ Wedding Dresses ┆ orav.bridal.id ┆ Lifestyle      ┆ 0.0    ┆ … ┆ false        ┆ false     ┆ false   ┆ 2021-06-16     │\n",
       "│                 ┆ eas.apps23     ┆                ┆        ┆   ┆              ┆           ┆         ┆ 12:59:17       │\n",
       "│ Naandi CA       ┆ nahnikali.mahi ┆ Communication  ┆ 3.7    ┆ … ┆ false        ┆ false     ┆ false   ┆ 2021-06-16     │\n",
       "│                 ┆ ndra.com.proje ┆                ┆        ┆   ┆              ┆           ┆         ┆ 12:59:17       │\n",
       "│                 ┆ ct…            ┆                ┆        ┆   ┆              ┆           ┆         ┆                │\n",
       "│ Elapse | Take   ┆ com.oguzhankad ┆ Productivity   ┆ 0.0    ┆ … ┆ false        ┆ false     ┆ false   ┆ 2021-06-16     │\n",
       "│ control of your ┆ aifciler.oscar ┆                ┆        ┆   ┆              ┆           ┆         ┆ 12:59:17       │\n",
       "│ …               ┆ ro…            ┆                ┆        ┆   ┆              ┆           ┆         ┆                │\n",
       "│ Century College ┆ com.readyeduca ┆ Education      ┆ 5.0    ┆ … ┆ false        ┆ false     ┆ false   ┆ 2021-06-16     │\n",
       "│                 ┆ tion.centuryco ┆                ┆        ┆   ┆              ┆           ┆         ┆ 12:59:17       │\n",
       "│                 ┆ ll…            ┆                ┆        ┆   ┆              ┆           ┆         ┆                │\n",
       "│ Brain Color -   ┆ com.braincolor ┆ Puzzle         ┆ 0.0    ┆ … ┆ true         ┆ false     ┆ false   ┆ 2021-06-16     │\n",
       "│ Colorful        ┆ .braincolor    ┆                ┆        ┆   ┆              ┆           ┆         ┆ 12:59:17       │\n",
       "│ Puzzles         ┆                ┆                ┆        ┆   ┆              ┆           ┆         ┆                │\n",
       "│ Pájara          ┆ com.inventiapl ┆ Books &        ┆ 0.0    ┆ … ┆ false        ┆ false     ┆ false   ┆ 2021-06-16     │\n",
       "│                 ┆ us.pajara      ┆ Reference      ┆        ┆   ┆              ┆           ┆         ┆ 12:59:17       │\n",
       "│ King Drug and   ┆ com.rxwikiplus ┆ Health &       ┆ 0.0    ┆ … ┆ true         ┆ false     ┆ false   ┆ 2021-06-16     │\n",
       "│ Home Healthcare ┆ .a7808652645   ┆ Fitness        ┆        ┆   ┆              ┆           ┆         ┆ 12:59:17       │\n",
       "│ Moneygment      ┆ ph.moneygment  ┆ Finance        ┆ 2.0    ┆ … ┆ false        ┆ false     ┆ false   ┆ 2021-06-16     │\n",
       "│                 ┆                ┆                ┆        ┆   ┆              ┆           ┆         ┆ 12:59:17       │\n",
       "│ Go Rentals      ┆ com.gorentals. ┆ Business       ┆ 0.0    ┆ … ┆ false        ┆ false     ┆ false   ┆ 2021-06-16     │\n",
       "│ Agent           ┆ driver         ┆                ┆        ┆   ┆              ┆           ┆         ┆ 12:59:17       │\n",
       "│ RTRO-CLC2       ┆ xyz.digital_ni ┆ Productivity   ┆ 0.0    ┆ … ┆ false        ┆ false     ┆ false   ┆ 2021-06-16     │\n",
       "│                 ┆ nja.retroCalcu ┆                ┆        ┆   ┆              ┆           ┆         ┆ 12:59:17       │\n",
       "│                 ┆ la…            ┆                ┆        ┆   ┆              ┆           ┆         ┆                │\n",
       "│ The Cleaners    ┆ com.cleanersra ┆ Shopping       ┆ 0.0    ┆ … ┆ true         ┆ false     ┆ false   ┆ 2021-06-16     │\n",
       "│ Rack            ┆ ck.storeapp    ┆                ┆        ┆   ┆              ┆           ┆         ┆ 12:59:17       │\n",
       "│ Gujarati        ┆ com.volfire.at ┆ Social         ┆ 0.0    ┆ … ┆ true         ┆ false     ┆ false   ┆ 2021-06-16     │\n",
       "│ Attitude Status ┆ titude_gujarat ┆                ┆        ┆   ┆              ┆           ┆         ┆ 12:59:17       │\n",
       "│                 ┆ i_…            ┆                ┆        ┆   ┆              ┆           ┆         ┆                │\n",
       "│ La Sicilia      ┆ andr.lasicilia ┆ Entertainment  ┆ 2.7    ┆ … ┆ true         ┆ false     ┆ false   ┆ 2021-06-16     │\n",
       "│ Edicola         ┆ .agrigento     ┆                ┆        ┆   ┆              ┆           ┆         ┆ 12:59:17       │\n",
       "│ Digitale        ┆                ┆                ┆        ┆   ┆              ┆           ┆         ┆                │\n",
       "│ Good Night      ┆ com.appmakerz. ┆ Personalizatio ┆ 4.8    ┆ … ┆ true         ┆ false     ┆ false   ┆ 2021-06-16     │\n",
       "│ Quotes          ┆ goodnightquote ┆ n              ┆        ┆   ┆              ┆           ┆         ┆ 12:59:17       │\n",
       "│                 ┆ s              ┆                ┆        ┆   ┆              ┆           ┆         ┆                │\n",
       "│ Mod Siren Head  ┆ com.Councilium ┆ Entertainment  ┆ 0.0    ┆ … ┆ true         ┆ false     ┆ false   ┆ 2021-06-16     │\n",
       "│ Horror Map      ┆ .mod.Siren.Hea ┆                ┆        ┆   ┆              ┆           ┆         ┆ 12:59:18       │\n",
       "│                 ┆ d              ┆                ┆        ┆   ┆              ┆           ┆         ┆                │\n",
       "│ Georgia DMV     ┆ com.blackblin. ┆ Tools          ┆ 0.0    ┆ … ┆ true         ┆ false     ┆ false   ┆ 2021-06-16     │\n",
       "│ Driver License  ┆ dmv.ga         ┆                ┆        ┆   ┆              ┆           ┆         ┆ 12:59:18       │\n",
       "│ Pra…            ┆                ┆                ┆        ┆   ┆              ┆           ┆         ┆                │\n",
       "│ DkVentas        ┆ ar.com.dekagb. ┆ Business       ┆ 0.0    ┆ … ┆ false        ┆ false     ┆ false   ┆ 2021-06-16     │\n",
       "│                 ┆ dekaventas     ┆                ┆        ┆   ┆              ┆           ┆         ┆ 12:59:18       │\n",
       "│ חג פסחא שמח     ┆ fr.enfantdoudo ┆ Entertainment  ┆ 0.0    ┆ … ┆ true         ┆ false     ┆ false   ┆ 2021-06-16     │\n",
       "│                 ┆ u.pqheb        ┆                ┆        ┆   ┆              ┆           ┆         ┆ 12:59:18       │\n",
       "│ How to Make     ┆ com.rojas.htmk ┆ Books &        ┆ 0.0    ┆ … ┆ true         ┆ false     ┆ false   ┆ 2021-06-16     │\n",
       "│ Money From      ┆ mfrmst         ┆ Reference      ┆        ┆   ┆              ┆           ┆         ┆ 12:59:18       │\n",
       "│ Website         ┆                ┆                ┆        ┆   ┆              ┆           ┆         ┆                │\n",
       "│ GOKarli Carrera ┆ de.gokarli.sho ┆ Shopping       ┆ 0.0    ┆ … ┆ false        ┆ false     ┆ false   ┆ 2021-06-16     │\n",
       "│ Rennbahn und D… ┆ p              ┆                ┆        ┆   ┆              ┆           ┆         ┆ 12:59:18       │\n",
       "│ Asset Data      ┆ com.linq.asset ┆ Business       ┆ 0.0    ┆ … ┆ false        ┆ false     ┆ false   ┆ 2021-06-16     │\n",
       "│ Collection      ┆ datacollection ┆                ┆        ┆   ┆              ┆           ┆         ┆ 12:59:18       │\n",
       "│ Gear Ratio      ┆ jp.abt.lopnur. ┆ Sports         ┆ 0.0    ┆ … ┆ false        ┆ false     ┆ false   ┆ 2021-06-16     │\n",
       "│ Calculator      ┆ gearratiocalc  ┆                ┆        ┆   ┆              ┆           ┆         ┆ 12:59:18       │\n",
       "│ Nutrishop Boise ┆ com.tapmango.n ┆ Health &       ┆ 0.0    ┆ … ┆ false        ┆ false     ┆ false   ┆ 2021-06-16     │\n",
       "│ Meridian        ┆ utrishopbm     ┆ Fitness        ┆        ┆   ┆              ┆           ┆         ┆ 12:59:18       │\n",
       "│ Murottal Muh    ┆ com.andromo.de ┆ Entertainment  ┆ 4.4    ┆ … ┆ true         ┆ false     ┆ false   ┆ 2021-06-16     │\n",
       "│ Tha al Junayd   ┆ v471643.app436 ┆                ┆        ┆   ┆              ┆           ┆         ┆ 12:59:18       │\n",
       "│ Off…            ┆ 19…            ┆                ┆        ┆   ┆              ┆           ┆         ┆                │\n",
       "│ PAX             ┆ com.apreciasof ┆ Travel & Local ┆ 3.3    ┆ … ┆ false        ┆ false     ┆ false   ┆ 2021-06-16     │\n",
       "│                 ┆ t.mobile.pax   ┆                ┆        ┆   ┆              ┆           ┆         ┆ 12:59:18       │\n",
       "│ Driving Day     ┆ com.day.drivin ┆ Entertainment  ┆ 2.8    ┆ … ┆ true         ┆ false     ┆ false   ┆ 2021-06-16     │\n",
       "│                 ┆ gday           ┆                ┆        ┆   ┆              ┆           ┆         ┆ 12:59:18       │\n",
       "│ Hopeless 2:     ┆ com.upopa.hope ┆ Action         ┆ 4.3    ┆ … ┆ true         ┆ true      ┆ false   ┆ 2021-06-16     │\n",
       "│ Cave Escape     ┆ less2          ┆                ┆        ┆   ┆              ┆           ┆         ┆ 12:59:18       │\n",
       "│ Caustic Editor  ┆ com.singlecell ┆ Music & Audio  ┆ 4.0    ┆ … ┆ false        ┆ false     ┆ false   ┆ 2021-06-16     │\n",
       "│ for VolcaSample ┆ software.kvsam ┆                ┆        ┆   ┆              ┆           ┆         ┆ 12:59:18       │\n",
       "│                 ┆ pl…            ┆                ┆        ┆   ┆              ┆           ┆         ┆                │\n",
       "│ Vietnamese -    ┆ com.eliminates ┆ Education      ┆ 0.0    ┆ … ┆ true         ┆ false     ┆ false   ┆ 2021-06-16     │\n",
       "│ English         ┆ apps.vietnames ┆                ┆        ┆   ┆              ┆           ┆         ┆ 12:59:18       │\n",
       "│ Translato…      ┆ et…            ┆                ┆        ┆   ┆              ┆           ┆         ┆                │\n",
       "│ Floral          ┆ com.arfdev.flo ┆ Personalizatio ┆ 0.0    ┆ … ┆ true         ┆ false     ┆ false   ┆ 2021-06-16     │\n",
       "│ Wallpaper       ┆ ralwallpaper   ┆ n              ┆        ┆   ┆              ┆           ┆         ┆ 12:59:18       │\n",
       "│ Engineers       ┆ com.eventapps. ┆ Business       ┆ 0.0    ┆ … ┆ false        ┆ false     ┆ false   ┆ 2021-06-16     │\n",
       "│ Careers         ┆ eventapps      ┆                ┆        ┆   ┆              ┆           ┆         ┆ 12:59:18       │\n",
       "│ STMIK Mercusuar ┆ com.aplikasi.d ┆ Education      ┆ 0.0    ┆ … ┆ false        ┆ false     ┆ false   ┆ 2021-06-16     │\n",
       "│ - Aditya Rachm… ┆ atapribadiadit ┆                ┆        ┆   ┆              ┆           ┆         ┆ 12:59:18       │\n",
       "│ Lero TOEFL      ┆ com.toefltimer ┆ Education      ┆ 3.4    ┆ … ┆ true         ┆ false     ┆ false   ┆ 2021-06-16     │\n",
       "│ Recorder +      ┆                ┆                ┆        ┆   ┆              ┆           ┆         ┆ 12:59:18       │\n",
       "│ Timer           ┆                ┆                ┆        ┆   ┆              ┆           ┆         ┆                │\n",
       "│ 大俠客—熱血歸來 ┆ com.rxsj.ssjj  ┆ Role Playing   ┆ 4.3    ┆ … ┆ false        ┆ false     ┆ false   ┆ 2021-06-16     │\n",
       "│                 ┆                ┆                ┆        ┆   ┆              ┆           ┆         ┆ 12:59:18       │\n",
       "│ ORU Online      ┆ com.threedream ┆ Education      ┆ 0.0    ┆ … ┆ false        ┆ false     ┆ false   ┆ 2021-06-16     │\n",
       "│                 ┆ .oruonline     ┆                ┆        ┆   ┆              ┆           ┆         ┆ 12:59:19       │\n",
       "│ Data Structure  ┆ datastructure. ┆ Education      ┆ 0.0    ┆ … ┆ false        ┆ false     ┆ false   ┆ 2021-06-16     │\n",
       "│                 ┆ appoworld.data ┆                ┆        ┆   ┆              ┆           ┆         ┆ 12:59:19       │\n",
       "│                 ┆ st…            ┆                ┆        ┆   ┆              ┆           ┆         ┆                │\n",
       "│ Devi Suktam     ┆ ishan.devi.suk ┆ Music & Audio  ┆ 3.5    ┆ … ┆ true         ┆ false     ┆ false   ┆ 2021-06-16     │\n",
       "│                 ┆ tam            ┆                ┆        ┆   ┆              ┆           ┆         ┆ 12:59:19       │\n",
       "│ Biliyor Musun - ┆ com.yyazilim.b ┆ Trivia         ┆ 5.0    ┆ … ┆ true         ┆ false     ┆ false   ┆ 2021-06-16     │\n",
       "│ Sonsuz Yarış    ┆ iliyormusun    ┆                ┆        ┆   ┆              ┆           ┆         ┆ 12:59:19       │\n",
       "└─────────────────┴────────────────┴────────────────┴────────┴───┴──────────────┴───────────┴─────────┴────────────────┘"
      ]
     },
     "execution_count": 13,
     "metadata": {},
     "output_type": "execute_result"
    }
   ],
   "source": [
    "df_polars_app"
   ]
  },
  {
   "cell_type": "code",
   "execution_count": 4,
   "id": "b93e8eec",
   "metadata": {},
   "outputs": [],
   "source": [
    "# Selecting the desire variables\n",
    "df2 = df_polars_app.select(['App Name', 'Category', 'Rating', 'Installs', 'Free', 'Developer Id', 'Released', 'Last Updated'])"
   ]
  },
  {
   "cell_type": "code",
   "execution_count": 5,
   "id": "cef6c862",
   "metadata": {},
   "outputs": [
    {
     "data": {
      "text/plain": [
       "<polars.config.Config at 0x2433df8de40>"
      ]
     },
     "execution_count": 5,
     "metadata": {},
     "output_type": "execute_result"
    }
   ],
   "source": [
    "#Config max_rows displayed\n",
    "pl.Config(tbl_rows=100)"
   ]
  },
  {
   "cell_type": "code",
   "execution_count": 6,
   "id": "903716e9",
   "metadata": {},
   "outputs": [
    {
     "data": {
      "text/html": [
       "<div><style>\n",
       ".dataframe > thead > tr,\n",
       ".dataframe > tbody > tr {\n",
       "  text-align: right;\n",
       "  white-space: pre-wrap;\n",
       "}\n",
       "</style>\n",
       "<small>shape: (23, 1)</small><table border=\"1\" class=\"dataframe\"><thead><tr><th>Installs</th></tr><tr><td>str</td></tr></thead><tbody><tr><td>null</td></tr><tr><td>&quot;500,000,000+&quot;</td></tr><tr><td>&quot;500,000+&quot;</td></tr><tr><td>&quot;500+&quot;</td></tr><tr><td>&quot;50,000,000+&quot;</td></tr><tr><td>&quot;50,000+&quot;</td></tr><tr><td>&quot;50+&quot;</td></tr><tr><td>&quot;5,000,000,000+&quot;</td></tr><tr><td>&quot;5,000,000+&quot;</td></tr><tr><td>&quot;5,000+&quot;</td></tr><tr><td>&quot;5+&quot;</td></tr><tr><td>&quot;100,000,000+&quot;</td></tr><tr><td>&quot;100,000+&quot;</td></tr><tr><td>&quot;100+&quot;</td></tr><tr><td>&quot;10,000,000,000+&quot;</td></tr><tr><td>&quot;10,000,000+&quot;</td></tr><tr><td>&quot;10,000+&quot;</td></tr><tr><td>&quot;10+&quot;</td></tr><tr><td>&quot;1,000,000,000+&quot;</td></tr><tr><td>&quot;1,000,000+&quot;</td></tr><tr><td>&quot;1,000+&quot;</td></tr><tr><td>&quot;1+&quot;</td></tr><tr><td>&quot;0+&quot;</td></tr></tbody></table></div>"
      ],
      "text/plain": [
       "shape: (23, 1)\n",
       "┌─────────────────┐\n",
       "│ Installs        │\n",
       "│ ---             │\n",
       "│ str             │\n",
       "╞═════════════════╡\n",
       "│ null            │\n",
       "│ 500,000,000+    │\n",
       "│ 500,000+        │\n",
       "│ 500+            │\n",
       "│ 50,000,000+     │\n",
       "│ 50,000+         │\n",
       "│ 50+             │\n",
       "│ 5,000,000,000+  │\n",
       "│ 5,000,000+      │\n",
       "│ 5,000+          │\n",
       "│ 5+              │\n",
       "│ 100,000,000+    │\n",
       "│ 100,000+        │\n",
       "│ 100+            │\n",
       "│ 10,000,000,000+ │\n",
       "│ 10,000,000+     │\n",
       "│ 10,000+         │\n",
       "│ 10+             │\n",
       "│ 1,000,000,000+  │\n",
       "│ 1,000,000+      │\n",
       "│ 1,000+          │\n",
       "│ 1+              │\n",
       "│ 0+              │\n",
       "└─────────────────┘"
      ]
     },
     "execution_count": 6,
     "metadata": {},
     "output_type": "execute_result"
    }
   ],
   "source": [
    "# Maximum number of installs\n",
    "df2.select(['Installs']).unique().sort('Installs', descending=True)"
   ]
  },
  {
   "cell_type": "code",
   "execution_count": 7,
   "id": "cd6ce61c",
   "metadata": {
    "scrolled": true
   },
   "outputs": [
    {
     "data": {
      "text/html": [
       "<div><style>\n",
       ".dataframe > thead > tr,\n",
       ".dataframe > tbody > tr {\n",
       "  text-align: right;\n",
       "  white-space: pre-wrap;\n",
       "}\n",
       "</style>\n",
       "<small>shape: (1, 8)</small><table border=\"1\" class=\"dataframe\"><thead><tr><th>App Name</th><th>Category</th><th>Rating</th><th>Installs</th><th>Free</th><th>Developer Id</th><th>Released</th><th>Last Updated</th></tr><tr><td>str</td><td>str</td><td>f64</td><td>str</td><td>bool</td><td>str</td><td>str</td><td>str</td></tr></thead><tbody><tr><td>&quot;Google Play services&quot;</td><td>&quot;Tools&quot;</td><td>4.2</td><td>&quot;10,000,000,000+&quot;</td><td>true</td><td>&quot;Google LLC&quot;</td><td>&quot;May 24, 2012&quot;</td><td>&quot;Jun 10, 2021&quot;</td></tr></tbody></table></div>"
      ],
      "text/plain": [
       "shape: (1, 8)\n",
       "┌──────────────────────┬──────────┬────────┬─────────────────┬──────┬──────────────┬──────────────┬──────────────┐\n",
       "│ App Name             ┆ Category ┆ Rating ┆ Installs        ┆ Free ┆ Developer Id ┆ Released     ┆ Last Updated │\n",
       "│ ---                  ┆ ---      ┆ ---    ┆ ---             ┆ ---  ┆ ---          ┆ ---          ┆ ---          │\n",
       "│ str                  ┆ str      ┆ f64    ┆ str             ┆ bool ┆ str          ┆ str          ┆ str          │\n",
       "╞══════════════════════╪══════════╪════════╪═════════════════╪══════╪══════════════╪══════════════╪══════════════╡\n",
       "│ Google Play services ┆ Tools    ┆ 4.2    ┆ 10,000,000,000+ ┆ true ┆ Google LLC   ┆ May 24, 2012 ┆ Jun 10, 2021 │\n",
       "└──────────────────────┴──────────┴────────┴─────────────────┴──────┴──────────────┴──────────────┴──────────────┘"
      ]
     },
     "execution_count": 7,
     "metadata": {},
     "output_type": "execute_result"
    }
   ],
   "source": [
    "# Since the variable \"Installs\" dont show especific numbers, only agreggations, \n",
    "# we wont be able to find an exactly most downloaded app\n",
    "df2.filter((pl.col(\"Installs\")==\"10,000,000,000+\") & (pl.col(\"Free\")==True)).sort(\"Last Updated\")"
   ]
  },
  {
   "cell_type": "code",
   "execution_count": 8,
   "id": "a6ce8ce5",
   "metadata": {},
   "outputs": [
    {
     "data": {
      "text/html": [
       "<div><style>\n",
       ".dataframe > thead > tr,\n",
       ".dataframe > tbody > tr {\n",
       "  text-align: right;\n",
       "  white-space: pre-wrap;\n",
       "}\n",
       "</style>\n",
       "<small>shape: (14, 8)</small><table border=\"1\" class=\"dataframe\"><thead><tr><th>App Name</th><th>Category</th><th>Rating</th><th>Installs</th><th>Free</th><th>Developer Id</th><th>Released</th><th>Last Updated</th></tr><tr><td>str</td><td>str</td><td>f64</td><td>str</td><td>bool</td><td>str</td><td>str</td><td>str</td></tr></thead><tbody><tr><td>&quot;WhatsApp Messenger&quot;</td><td>&quot;Communication&quot;</td><td>4.0</td><td>&quot;5,000,000,000+&quot;</td><td>true</td><td>&quot;WhatsApp LLC&quot;</td><td>&quot;Oct 18, 2010&quot;</td><td>&quot;Jun 09, 2021&quot;</td></tr><tr><td>&quot;Google Drive&quot;</td><td>&quot;Productivity&quot;</td><td>4.3</td><td>&quot;5,000,000,000+&quot;</td><td>true</td><td>&quot;Google LLC&quot;</td><td>&quot;Apr 27, 2011&quot;</td><td>&quot;Jun 09, 2021&quot;</td></tr><tr><td>&quot;Google&quot;</td><td>&quot;Tools&quot;</td><td>4.2</td><td>&quot;5,000,000,000+&quot;</td><td>true</td><td>&quot;Google LLC&quot;</td><td>&quot;Aug 12, 2010&quot;</td><td>&quot;Jun 11, 2021&quot;</td></tr><tr><td>&quot;Google TV (previously Play Mov…</td><td>&quot;Video Players &amp; Editors&quot;</td><td>4.0</td><td>&quot;5,000,000,000+&quot;</td><td>true</td><td>&quot;Google LLC&quot;</td><td>&quot;Jun 3, 2011&quot;</td><td>&quot;Jun 14, 2021&quot;</td></tr><tr><td>&quot;Google Chrome: Fast &amp; Secure&quot;</td><td>&quot;Communication&quot;</td><td>4.1</td><td>&quot;5,000,000,000+&quot;</td><td>true</td><td>&quot;Google LLC&quot;</td><td>&quot;Feb 7, 2012&quot;</td><td>&quot;Jun 14, 2021&quot;</td></tr><tr><td>&quot;Google Photos&quot;</td><td>&quot;Photography&quot;</td><td>4.5</td><td>&quot;5,000,000,000+&quot;</td><td>true</td><td>&quot;Google LLC&quot;</td><td>&quot;May 28, 2015&quot;</td><td>&quot;Jun 14, 2021&quot;</td></tr><tr><td>&quot;Messenger – Text and Video Cha…</td><td>&quot;Communication&quot;</td><td>4.0</td><td>&quot;5,000,000,000+&quot;</td><td>true</td><td>&quot;Facebook&quot;</td><td>&quot;Jan 30, 2014&quot;</td><td>&quot;Jun 14, 2021&quot;</td></tr><tr><td>&quot;Google Maps - Navigate &amp; Explo…</td><td>&quot;Travel &amp; Local&quot;</td><td>3.8</td><td>&quot;5,000,000,000+&quot;</td><td>true</td><td>&quot;Google LLC&quot;</td><td>null</td><td>&quot;Jun 15, 2021&quot;</td></tr><tr><td>&quot;YouTube&quot;</td><td>&quot;Video Players &amp; Editors&quot;</td><td>4.4</td><td>&quot;5,000,000,000+&quot;</td><td>true</td><td>&quot;Google LLC&quot;</td><td>&quot;Oct 20, 2010&quot;</td><td>&quot;Jun 16, 2021&quot;</td></tr><tr><td>&quot;Gmail&quot;</td><td>&quot;Communication&quot;</td><td>4.2</td><td>&quot;5,000,000,000+&quot;</td><td>true</td><td>&quot;Google LLC&quot;</td><td>&quot;Sep 21, 2010&quot;</td><td>&quot;Jun 16, 2021&quot;</td></tr><tr><td>&quot;Facebook&quot;</td><td>&quot;Social&quot;</td><td>2.3</td><td>&quot;5,000,000,000+&quot;</td><td>true</td><td>&quot;Facebook&quot;</td><td>null</td><td>&quot;Jun 16, 2021&quot;</td></tr><tr><td>&quot;Google Text-to-Speech&quot;</td><td>&quot;Tools&quot;</td><td>4.1</td><td>&quot;5,000,000,000+&quot;</td><td>true</td><td>&quot;Google LLC&quot;</td><td>&quot;Oct 10, 2013&quot;</td><td>&quot;Mar 29, 2021&quot;</td></tr><tr><td>&quot;Hangouts&quot;</td><td>&quot;Communication&quot;</td><td>4.0</td><td>&quot;5,000,000,000+&quot;</td><td>true</td><td>&quot;Google LLC&quot;</td><td>&quot;May 15, 2013&quot;</td><td>&quot;May 14, 2021&quot;</td></tr><tr><td>&quot;Android Accessibility Suite&quot;</td><td>&quot;Tools&quot;</td><td>4.2</td><td>&quot;5,000,000,000+&quot;</td><td>true</td><td>&quot;Google LLC&quot;</td><td>null</td><td>&quot;May 19, 2021&quot;</td></tr></tbody></table></div>"
      ],
      "text/plain": [
       "shape: (14, 8)\n",
       "┌────────────────────┬───────────────────┬────────┬────────────────┬──────┬──────────────┬──────────────┬──────────────┐\n",
       "│ App Name           ┆ Category          ┆ Rating ┆ Installs       ┆ Free ┆ Developer Id ┆ Released     ┆ Last Updated │\n",
       "│ ---                ┆ ---               ┆ ---    ┆ ---            ┆ ---  ┆ ---          ┆ ---          ┆ ---          │\n",
       "│ str                ┆ str               ┆ f64    ┆ str            ┆ bool ┆ str          ┆ str          ┆ str          │\n",
       "╞════════════════════╪═══════════════════╪════════╪════════════════╪══════╪══════════════╪══════════════╪══════════════╡\n",
       "│ WhatsApp Messenger ┆ Communication     ┆ 4.0    ┆ 5,000,000,000+ ┆ true ┆ WhatsApp LLC ┆ Oct 18, 2010 ┆ Jun 09, 2021 │\n",
       "│ Google Drive       ┆ Productivity      ┆ 4.3    ┆ 5,000,000,000+ ┆ true ┆ Google LLC   ┆ Apr 27, 2011 ┆ Jun 09, 2021 │\n",
       "│ Google             ┆ Tools             ┆ 4.2    ┆ 5,000,000,000+ ┆ true ┆ Google LLC   ┆ Aug 12, 2010 ┆ Jun 11, 2021 │\n",
       "│ Google TV          ┆ Video Players &   ┆ 4.0    ┆ 5,000,000,000+ ┆ true ┆ Google LLC   ┆ Jun 3, 2011  ┆ Jun 14, 2021 │\n",
       "│ (previously Play   ┆ Editors           ┆        ┆                ┆      ┆              ┆              ┆              │\n",
       "│ Mov…               ┆                   ┆        ┆                ┆      ┆              ┆              ┆              │\n",
       "│ Google Chrome:     ┆ Communication     ┆ 4.1    ┆ 5,000,000,000+ ┆ true ┆ Google LLC   ┆ Feb 7, 2012  ┆ Jun 14, 2021 │\n",
       "│ Fast & Secure      ┆                   ┆        ┆                ┆      ┆              ┆              ┆              │\n",
       "│ Google Photos      ┆ Photography       ┆ 4.5    ┆ 5,000,000,000+ ┆ true ┆ Google LLC   ┆ May 28, 2015 ┆ Jun 14, 2021 │\n",
       "│ Messenger – Text   ┆ Communication     ┆ 4.0    ┆ 5,000,000,000+ ┆ true ┆ Facebook     ┆ Jan 30, 2014 ┆ Jun 14, 2021 │\n",
       "│ and Video Cha…     ┆                   ┆        ┆                ┆      ┆              ┆              ┆              │\n",
       "│ Google Maps -      ┆ Travel & Local    ┆ 3.8    ┆ 5,000,000,000+ ┆ true ┆ Google LLC   ┆ null         ┆ Jun 15, 2021 │\n",
       "│ Navigate & Explo…  ┆                   ┆        ┆                ┆      ┆              ┆              ┆              │\n",
       "│ YouTube            ┆ Video Players &   ┆ 4.4    ┆ 5,000,000,000+ ┆ true ┆ Google LLC   ┆ Oct 20, 2010 ┆ Jun 16, 2021 │\n",
       "│                    ┆ Editors           ┆        ┆                ┆      ┆              ┆              ┆              │\n",
       "│ Gmail              ┆ Communication     ┆ 4.2    ┆ 5,000,000,000+ ┆ true ┆ Google LLC   ┆ Sep 21, 2010 ┆ Jun 16, 2021 │\n",
       "│ Facebook           ┆ Social            ┆ 2.3    ┆ 5,000,000,000+ ┆ true ┆ Facebook     ┆ null         ┆ Jun 16, 2021 │\n",
       "│ Google             ┆ Tools             ┆ 4.1    ┆ 5,000,000,000+ ┆ true ┆ Google LLC   ┆ Oct 10, 2013 ┆ Mar 29, 2021 │\n",
       "│ Text-to-Speech     ┆                   ┆        ┆                ┆      ┆              ┆              ┆              │\n",
       "│ Hangouts           ┆ Communication     ┆ 4.0    ┆ 5,000,000,000+ ┆ true ┆ Google LLC   ┆ May 15, 2013 ┆ May 14, 2021 │\n",
       "│ Android            ┆ Tools             ┆ 4.2    ┆ 5,000,000,000+ ┆ true ┆ Google LLC   ┆ null         ┆ May 19, 2021 │\n",
       "│ Accessibility      ┆                   ┆        ┆                ┆      ┆              ┆              ┆              │\n",
       "│ Suite              ┆                   ┆        ┆                ┆      ┆              ┆              ┆              │\n",
       "└────────────────────┴───────────────────┴────────┴────────────────┴──────┴──────────────┴──────────────┴──────────────┘"
      ]
     },
     "execution_count": 8,
     "metadata": {},
     "output_type": "execute_result"
    }
   ],
   "source": [
    "# Since the only app with 10,000,000,000+ its the google play itself we can disconsider it \n",
    "# and use the second largest amount of downloads\n",
    "df2.filter((pl.col(\"Installs\")==\"5,000,000,000+\") & (pl.col(\"Free\")==True)).sort(\"Last Updated\")"
   ]
  },
  {
   "cell_type": "code",
   "execution_count": 9,
   "id": "340dc3c8",
   "metadata": {},
   "outputs": [],
   "source": [
    "#New polars dataframe already filtred\n",
    "df3 = df2.filter((pl.col(\"Installs\")==\"5,000,000,000+\") & (pl.col(\"Free\")==True)).sort(\"Last Updated\")"
   ]
  },
  {
   "cell_type": "code",
   "execution_count": 10,
   "id": "91627ebc",
   "metadata": {},
   "outputs": [
    {
     "data": {
      "text/plain": [
       "(14, 8)"
      ]
     },
     "execution_count": 10,
     "metadata": {},
     "output_type": "execute_result"
    }
   ],
   "source": [
    "df3.shape"
   ]
  },
  {
   "cell_type": "code",
   "execution_count": 11,
   "id": "8ccf5aed",
   "metadata": {},
   "outputs": [
    {
     "data": {
      "text/html": [
       "<div><style>\n",
       ".dataframe > thead > tr,\n",
       ".dataframe > tbody > tr {\n",
       "  text-align: right;\n",
       "  white-space: pre-wrap;\n",
       "}\n",
       "</style>\n",
       "<small>shape: (7, 2)</small><table border=\"1\" class=\"dataframe\"><thead><tr><th>Category</th><th>len</th></tr><tr><td>str</td><td>u32</td></tr></thead><tbody><tr><td>&quot;Communication&quot;</td><td>5</td></tr><tr><td>&quot;Tools&quot;</td><td>3</td></tr><tr><td>&quot;Video Players &amp; Editors&quot;</td><td>2</td></tr><tr><td>&quot;Productivity&quot;</td><td>1</td></tr><tr><td>&quot;Photography&quot;</td><td>1</td></tr><tr><td>&quot;Travel &amp; Local&quot;</td><td>1</td></tr><tr><td>&quot;Social&quot;</td><td>1</td></tr></tbody></table></div>"
      ],
      "text/plain": [
       "shape: (7, 2)\n",
       "┌─────────────────────────┬─────┐\n",
       "│ Category                ┆ len │\n",
       "│ ---                     ┆ --- │\n",
       "│ str                     ┆ u32 │\n",
       "╞═════════════════════════╪═════╡\n",
       "│ Communication           ┆ 5   │\n",
       "│ Tools                   ┆ 3   │\n",
       "│ Video Players & Editors ┆ 2   │\n",
       "│ Productivity            ┆ 1   │\n",
       "│ Photography             ┆ 1   │\n",
       "│ Travel & Local          ┆ 1   │\n",
       "│ Social                  ┆ 1   │\n",
       "└─────────────────────────┴─────┘"
      ]
     },
     "execution_count": 11,
     "metadata": {},
     "output_type": "execute_result"
    }
   ],
   "source": [
    "#Group by \"Category\"\n",
    "df3.group_by(\"Category\", maintain_order=True).len().sort(\"len\", descending=True)"
   ]
  },
  {
   "cell_type": "code",
   "execution_count": null,
   "id": "d3d0eddb",
   "metadata": {},
   "outputs": [],
   "source": []
  }
 ],
 "metadata": {
  "kernelspec": {
   "display_name": "Python 3 (ipykernel)",
   "language": "python",
   "name": "python3"
  },
  "language_info": {
   "codemirror_mode": {
    "name": "ipython",
    "version": 3
   },
   "file_extension": ".py",
   "mimetype": "text/x-python",
   "name": "python",
   "nbconvert_exporter": "python",
   "pygments_lexer": "ipython3",
   "version": "3.10.1"
  }
 },
 "nbformat": 4,
 "nbformat_minor": 5
}
