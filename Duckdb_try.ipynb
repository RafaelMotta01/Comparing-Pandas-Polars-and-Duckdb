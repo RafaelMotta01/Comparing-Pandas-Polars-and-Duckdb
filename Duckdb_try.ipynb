{
 "cells": [
  {
   "cell_type": "code",
   "execution_count": 1,
   "id": "0fac1568",
   "metadata": {},
   "outputs": [],
   "source": [
    "import duckdb\n",
    "import os\n",
    "import time"
   ]
  },
  {
   "cell_type": "code",
   "execution_count": 2,
   "id": "28b2ca8e",
   "metadata": {},
   "outputs": [],
   "source": [
    "# record start time\n",
    "start = time.time()\n",
    "\n",
    "# Read csv\n",
    "duck_app = duckdb.read_csv(\"Google-Playstore.csv\", names = ['App_Name','App_Id','Category','Rating','Rating_Count','Installs','Minimum_Installs','Maximum_Installs','Free','Price','Currency','Size','Minimum_Android','Developer_Id','Developer_Website','Developer_Email','Released','Last_Updated','Content_Rating','Privacy_Policy','Ad_Supported','In_App_Purchases','Editors_Choice','Scraped_Time'])\n",
    "\n",
    "# record end time\n",
    "end = time.time()"
   ]
  },
  {
   "cell_type": "code",
   "execution_count": 3,
   "id": "a3562d4c",
   "metadata": {},
   "outputs": [
    {
     "name": "stdout",
     "output_type": "stream",
     "text": [
      "The time of execution of duckdb read_csv is: 154.14857864379883 ms\n"
     ]
    }
   ],
   "source": [
    "print(\"The time of execution of duckdb read_csv is:\",(end-start) * 10**3, \"ms\")"
   ]
  },
  {
   "cell_type": "code",
   "execution_count": 4,
   "id": "f0d118c6",
   "metadata": {},
   "outputs": [],
   "source": [
    "df2 = duckdb.query(\"SELECT App_Name, Category, Rating, Installs, Free, Developer_Id, Released, Last_Updated FROM duck_app\").to_df()"
   ]
  },
  {
   "cell_type": "code",
   "execution_count": 5,
   "id": "cef6c862",
   "metadata": {},
   "outputs": [
    {
     "data": {
      "text/plain": [
       "┌─────────────────┐\n",
       "│    Installs     │\n",
       "│     varchar     │\n",
       "├─────────────────┤\n",
       "│ 0+              │\n",
       "│ 1+              │\n",
       "│ 1,000+          │\n",
       "│ 1,000,000+      │\n",
       "│ 1,000,000,000+  │\n",
       "│ 10+             │\n",
       "│ 10,000+         │\n",
       "│ 10,000,000+     │\n",
       "│ 10,000,000,000+ │\n",
       "│ 100+            │\n",
       "│ 100,000+        │\n",
       "│ 100,000,000+    │\n",
       "│ 5+              │\n",
       "│ 5,000+          │\n",
       "│ 5,000,000+      │\n",
       "│ 5,000,000,000+  │\n",
       "│ 50+             │\n",
       "│ 50,000+         │\n",
       "│ 50,000,000+     │\n",
       "│ 500+            │\n",
       "│ 500,000+        │\n",
       "│ 500,000,000+    │\n",
       "│ NULL            │\n",
       "├─────────────────┤\n",
       "│     23 rows     │\n",
       "└─────────────────┘"
      ]
     },
     "execution_count": 5,
     "metadata": {},
     "output_type": "execute_result"
    }
   ],
   "source": [
    "# Maximum number of installs\n",
    "duckdb.query(\"SELECT distinct Installs FROM df2 order by Installs asc\")"
   ]
  },
  {
   "cell_type": "code",
   "execution_count": 6,
   "id": "cd6ce61c",
   "metadata": {},
   "outputs": [
    {
     "data": {
      "text/plain": [
       "┌──────────────────────┬──────────┬────────┬─────────────────┬─────────┬──────────────┬──────────────┬──────────────┐\n",
       "│       App_Name       │ Category │ Rating │    Installs     │  Free   │ Developer_Id │   Released   │ Last_Updated │\n",
       "│       varchar        │ varchar  │ double │     varchar     │ boolean │   varchar    │   varchar    │   varchar    │\n",
       "├──────────────────────┼──────────┼────────┼─────────────────┼─────────┼──────────────┼──────────────┼──────────────┤\n",
       "│ Google Play services │ Tools    │    4.2 │ 10,000,000,000+ │ true    │ Google LLC   │ May 24, 2012 │ Jun 10, 2021 │\n",
       "└──────────────────────┴──────────┴────────┴─────────────────┴─────────┴──────────────┴──────────────┴──────────────┘"
      ]
     },
     "execution_count": 6,
     "metadata": {},
     "output_type": "execute_result"
    }
   ],
   "source": [
    "# Since the variable \"Installs\" dont show especific numbers, only agreggations, \n",
    "# we wont be able to find an exactly most downloaded app\n",
    "duckdb.query(\"SELECT * FROM df2 WHERE Installs = '10,000,000,000+' AND Free = 'True'\")"
   ]
  },
  {
   "cell_type": "code",
   "execution_count": 7,
   "id": "340dc3c8",
   "metadata": {},
   "outputs": [
    {
     "data": {
      "text/plain": [
       "┌──────────────────────┬──────────────────────┬────────┬───┬──────────────┬──────────────┬──────────────┐\n",
       "│       App_Name       │       Category       │ Rating │ … │ Developer_Id │   Released   │ Last_Updated │\n",
       "│       varchar        │       varchar        │ double │   │   varchar    │   varchar    │   varchar    │\n",
       "├──────────────────────┼──────────────────────┼────────┼───┼──────────────┼──────────────┼──────────────┤\n",
       "│ Google TV (previou…  │ Video Players & Ed…  │    4.0 │ … │ Google LLC   │ Jun 3, 2011  │ Jun 14, 2021 │\n",
       "│ WhatsApp Messenger   │ Communication        │    4.0 │ … │ WhatsApp LLC │ Oct 18, 2010 │ Jun 09, 2021 │\n",
       "│ YouTube              │ Video Players & Ed…  │    4.4 │ … │ Google LLC   │ Oct 20, 2010 │ Jun 16, 2021 │\n",
       "│ Google Drive         │ Productivity         │    4.3 │ … │ Google LLC   │ Apr 27, 2011 │ Jun 09, 2021 │\n",
       "│ Hangouts             │ Communication        │    4.0 │ … │ Google LLC   │ May 15, 2013 │ May 14, 2021 │\n",
       "│ Google Chrome: Fas…  │ Communication        │    4.1 │ … │ Google LLC   │ Feb 7, 2012  │ Jun 14, 2021 │\n",
       "│ Google Text-to-Spe…  │ Tools                │    4.1 │ … │ Google LLC   │ Oct 10, 2013 │ Mar 29, 2021 │\n",
       "│ Google Maps - Navi…  │ Travel & Local       │    3.8 │ … │ Google LLC   │ NULL         │ Jun 15, 2021 │\n",
       "│ Google               │ Tools                │    4.2 │ … │ Google LLC   │ Aug 12, 2010 │ Jun 11, 2021 │\n",
       "│ Google Photos        │ Photography          │    4.5 │ … │ Google LLC   │ May 28, 2015 │ Jun 14, 2021 │\n",
       "│ Android Accessibil…  │ Tools                │    4.2 │ … │ Google LLC   │ NULL         │ May 19, 2021 │\n",
       "│ Messenger – Text a…  │ Communication        │    4.0 │ … │ Facebook     │ Jan 30, 2014 │ Jun 14, 2021 │\n",
       "│ Gmail                │ Communication        │    4.2 │ … │ Google LLC   │ Sep 21, 2010 │ Jun 16, 2021 │\n",
       "│ Facebook             │ Social               │    2.3 │ … │ Facebook     │ NULL         │ Jun 16, 2021 │\n",
       "├──────────────────────┴──────────────────────┴────────┴───┴──────────────┴──────────────┴──────────────┤\n",
       "│ 14 rows                                                                           8 columns (6 shown) │\n",
       "└───────────────────────────────────────────────────────────────────────────────────────────────────────┘"
      ]
     },
     "execution_count": 7,
     "metadata": {},
     "output_type": "execute_result"
    }
   ],
   "source": [
    "# Since the only app with 10,000,000,000+ its the google play itself we can disconsider it \n",
    "# and use the second largest amount of downloads\n",
    "duckdb.query(\"SELECT * FROM df2 WHERE Installs = '5,000,000,000+' AND Free = 'True' order by 'Last Updated'\")"
   ]
  },
  {
   "cell_type": "code",
   "execution_count": 8,
   "id": "b100680e",
   "metadata": {},
   "outputs": [],
   "source": [
    "#New duckdb dataframe already filtred\n",
    "df3 = duckdb.query(\"SELECT * FROM df2 WHERE Installs = '5,000,000,000+' AND Free = 'True' order by 'Last Updated'\").to_df()"
   ]
  },
  {
   "cell_type": "code",
   "execution_count": 9,
   "id": "91627ebc",
   "metadata": {},
   "outputs": [
    {
     "data": {
      "text/plain": [
       "(14, 8)"
      ]
     },
     "execution_count": 9,
     "metadata": {},
     "output_type": "execute_result"
    }
   ],
   "source": [
    "df3.shape"
   ]
  },
  {
   "cell_type": "code",
   "execution_count": 10,
   "id": "8ccf5aed",
   "metadata": {},
   "outputs": [
    {
     "data": {
      "text/plain": [
       "┌─────────────────────────┬───────┐\n",
       "│        Category         │ TOTAL │\n",
       "│         varchar         │ int64 │\n",
       "├─────────────────────────┼───────┤\n",
       "│ Communication           │     5 │\n",
       "│ Tools                   │     3 │\n",
       "│ Video Players & Editors │     2 │\n",
       "│ Travel & Local          │     1 │\n",
       "│ Photography             │     1 │\n",
       "│ Social                  │     1 │\n",
       "│ Productivity            │     1 │\n",
       "└─────────────────────────┴───────┘"
      ]
     },
     "execution_count": 10,
     "metadata": {},
     "output_type": "execute_result"
    }
   ],
   "source": [
    "#Group by \"Category\"\n",
    "duckdb.query(\"SELECT Category, COUNT(Category) as TOTAL FROM df3 GROUP BY 1 ORDER BY TOTAL DESC\")"
   ]
  },
  {
   "cell_type": "code",
   "execution_count": null,
   "id": "d3d0eddb",
   "metadata": {},
   "outputs": [],
   "source": []
  }
 ],
 "metadata": {
  "kernelspec": {
   "display_name": "Python 3 (ipykernel)",
   "language": "python",
   "name": "python3"
  },
  "language_info": {
   "codemirror_mode": {
    "name": "ipython",
    "version": 3
   },
   "file_extension": ".py",
   "mimetype": "text/x-python",
   "name": "python",
   "nbconvert_exporter": "python",
   "pygments_lexer": "ipython3",
   "version": "3.10.1"
  }
 },
 "nbformat": 4,
 "nbformat_minor": 5
}
